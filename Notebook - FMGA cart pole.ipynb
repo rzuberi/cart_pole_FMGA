{
  "cells": [
    {
      "cell_type": "markdown",
      "metadata": {
        "id": "voqNPnGpIb2Z"
      },
      "source": [
        "#Evaluating the behavioural changes in the OpenAI cart pole task with a Full Microbial Genetic Algorithm"
      ]
    },
    {
      "cell_type": "markdown",
      "metadata": {
        "id": "R7tkQY7pIq2-"
      },
      "source": [
        "In this notebook, we will define a Full Microbial Genetic Algorithm to solve the cart pole task.\n",
        "\n",
        "Firstly, we will define the cart pole task and how we manipulate it.\n",
        "\n",
        "Secondly, we will define our FMGA model.\n",
        "\n",
        "Thirdly, we will go through the experimentation of the different FMGA models (with varying hyper-parameters) to solve the cart pole task and their evaluation."
      ]
    },
    {
      "cell_type": "markdown",
      "source": [
        "Note: Google Colab has crashed multiple times when generating the data here. This is why some of the plotted data here may differ from the equivalent graphs in the report."
      ],
      "metadata": {
        "id": "Gcxe7zwXEDG3"
      }
    },
    {
      "cell_type": "markdown",
      "metadata": {
        "id": "GBrvIIDeJovN"
      },
      "source": [
        "##Packages and imports"
      ]
    },
    {
      "cell_type": "code",
      "execution_count": null,
      "metadata": {
        "colab": {
          "base_uri": "https://localhost:8080/"
        },
        "id": "2bX41Rw9IZ5P",
        "outputId": "5c4d2e3e-3ae2-428c-e916-ecdd5e5ff820"
      },
      "outputs": [
        {
          "output_type": "stream",
          "name": "stdout",
          "text": [
            "\r0% [Working]\r            \rHit:1 https://developer.download.nvidia.com/compute/cuda/repos/ubuntu1804/x86_64  InRelease\n",
            "\r0% [Connecting to archive.ubuntu.com] [Connecting to security.ubuntu.com (185.1\r                                                                               \rHit:2 https://cloud.r-project.org/bin/linux/ubuntu bionic-cran40/ InRelease\n",
            "\r                                                                               \rIgn:3 https://developer.download.nvidia.com/compute/machine-learning/repos/ubuntu1804/x86_64  InRelease\n",
            "Hit:4 https://developer.download.nvidia.com/compute/machine-learning/repos/ubuntu1804/x86_64  Release\n",
            "Hit:5 http://archive.ubuntu.com/ubuntu bionic InRelease\n",
            "Get:6 http://security.ubuntu.com/ubuntu bionic-security InRelease [88.7 kB]\n",
            "Get:7 http://archive.ubuntu.com/ubuntu bionic-updates InRelease [88.7 kB]\n",
            "Hit:8 http://ppa.launchpad.net/c2d4u.team/c2d4u4.0+/ubuntu bionic InRelease\n",
            "Get:9 http://archive.ubuntu.com/ubuntu bionic-backports InRelease [74.6 kB]\n",
            "Hit:10 http://ppa.launchpad.net/cran/libgit2/ubuntu bionic InRelease\n",
            "Hit:11 http://ppa.launchpad.net/deadsnakes/ppa/ubuntu bionic InRelease\n",
            "Hit:12 http://ppa.launchpad.net/graphics-drivers/ppa/ubuntu bionic InRelease\n",
            "Get:14 http://archive.ubuntu.com/ubuntu bionic-updates/main amd64 Packages [3,197 kB]\n",
            "Fetched 3,449 kB in 8s (412 kB/s)\n",
            "Reading package lists... Done\n",
            "Reading package lists... Done\n",
            "Building dependency tree       \n",
            "Reading state information... Done\n",
            "xvfb is already the newest version (2:1.19.6-1ubuntu4.10).\n",
            "The following packages were automatically installed and are no longer required:\n",
            "  libnvidia-common-460 nsight-compute-2020.2.0\n",
            "Use 'apt autoremove' to remove them.\n",
            "0 upgraded, 0 newly installed, 0 to remove and 70 not upgraded.\n"
          ]
        }
      ],
      "source": [
        "#Packages and imports\n",
        "\n",
        "!apt-get update\n",
        "!apt install xvfb \n",
        "!apt-get install x11-utils > /dev/null 2>&1\n",
        "!apt-get install -y xvfb python-opengl > /dev/null 2>&1\n",
        "!pip install gym pyvirtualdisplay > /dev/null 2>&1\n",
        "\n",
        "import os\n",
        "import shutil\n",
        "import random\n",
        "import copy\n",
        "import matplotlib.pyplot as plt\n",
        "from IPython import display as ipythondisplay\n",
        "from pyvirtualdisplay import Display\n",
        "import gym\n",
        "from gym import logger as gymlogger\n",
        "from gym.wrappers import Monitor\n",
        "import numpy as np\n",
        "import torch\n",
        "import matplotlib.pyplot as plt\n",
        "from statistics import mean\n",
        "from prettytable import PrettyTable\n",
        "from google.colab import files"
      ]
    },
    {
      "cell_type": "markdown",
      "metadata": {
        "id": "fyJ-hmuBJtPe"
      },
      "source": [
        "##Defining the OpenAI cart pole task"
      ]
    },
    {
      "cell_type": "markdown",
      "metadata": {
        "id": "iTdephPLJ6Xy"
      },
      "source": [
        "We first need to define the environment. Our environment is the cart pole environement, as that is the task we will be solving."
      ]
    },
    {
      "cell_type": "code",
      "execution_count": null,
      "metadata": {
        "colab": {
          "base_uri": "https://localhost:8080/"
        },
        "id": "csnlA9c2JYLy",
        "outputId": "c49c0930-7e7c-456b-b08c-53423090ca8b"
      },
      "outputs": [
        {
          "output_type": "stream",
          "name": "stdout",
          "text": [
            "Action space Discrete(2) \n",
            "Observation space Box(-3.4028234663852886e+38, 3.4028234663852886e+38, (4,), float32)\n"
          ]
        }
      ],
      "source": [
        "#Defining the environment\n",
        "\n",
        "env_name = 'CartPole-v1'\n",
        "env = gym.make(env_name) #Create the gym environment\n",
        "print(f\"Action space {env.action_space} \\nObservation space {env.observation_space}\")"
      ]
    },
    {
      "cell_type": "code",
      "execution_count": null,
      "metadata": {
        "colab": {
          "base_uri": "https://localhost:8080/"
        },
        "id": "Md3vOla-Lpx1",
        "outputId": "1d350684-81a2-4431-85df-aae9f8cde458"
      },
      "outputs": [
        {
          "output_type": "stream",
          "name": "stdout",
          "text": [
            "obs[ 0.04 -0.24  0.    0.29] reward 1.0 action 0 done False info {}\n",
            "obs[ 0.03 -0.44  0.01  0.58] reward 1.0 action 0 done False info {}\n",
            "obs[ 0.02 -0.63  0.02  0.88] reward 1.0 action 0 done False info {}\n",
            "obs[ 0.01 -0.44  0.04  0.59] reward 1.0 action 1 done False info {}\n",
            "obs[ 0.   -0.63  0.05  0.89] reward 1.0 action 0 done False info {}\n",
            "obs[-0.01 -0.44  0.07  0.62] reward 1.0 action 1 done False info {}\n",
            "obs[-0.02 -0.63  0.08  0.93] reward 1.0 action 0 done False info {}\n",
            "obs[-0.03 -0.83  0.1   1.25] reward 1.0 action 0 done False info {}\n",
            "obs[-0.05 -0.64  0.12  0.99] reward 1.0 action 1 done False info {}\n",
            "obs[-0.06 -0.83  0.14  1.32] reward 1.0 action 0 done False info {}\n",
            "obs[-0.08 -0.64  0.17  1.07] reward 1.0 action 1 done False info {}\n",
            "obs[-0.09 -0.84  0.19  1.41] reward 1.0 action 0 done False info {}\n",
            "obs[-0.11 -0.65  0.22  1.18] reward 1.0 action 1 done True info {}\n"
          ]
        }
      ],
      "source": [
        "#Example of playing around with the environment\n",
        "#Only random actions are used here\n",
        "\n",
        "env_name = 'CartPole-v1'\n",
        "env = gym.make(env_name)\n",
        "\n",
        "env.reset()\n",
        "done = False\n",
        "while not done:\n",
        "    action = env.action_space.sample() # put agent here\n",
        "    obs, reward, done, info = env.step(action)\n",
        "    print(f\"obs{np.round(obs, 2)} reward {reward} action {action} done {done} info {info}\")"
      ]
    },
    {
      "cell_type": "markdown",
      "metadata": {
        "id": "dNhjvrxYKQSc"
      },
      "source": [
        "Each action we take on that cart pole in the environment creates the scene for the next episode. At each episode, the cart pole gives us information about its positioning in the environment, our agent decides on an action, the next episode starts. Here we define a function to run one episode, which will return a reward. The more reward the better."
      ]
    },
    {
      "cell_type": "code",
      "execution_count": null,
      "metadata": {
        "id": "GYB85iFyJ5RX"
      },
      "outputs": [],
      "source": [
        "#Run an episode\n",
        "\n",
        "def run_episode(env, agent):\n",
        "  tot_reward = 0.0\n",
        "  obs = env.reset()\n",
        "  done = False\n",
        "  while not done:\n",
        "      action = agent.get_action(obs)\n",
        "      obs, reward, done, info = env.step(action)\n",
        "      tot_reward = tot_reward + reward\n",
        "  return tot_reward"
      ]
    },
    {
      "cell_type": "markdown",
      "metadata": {
        "id": "sLZvLUOMK8OH"
      },
      "source": [
        "The cart pole, through its returned observations, can give us the metrics of how it is currently doing in the environment as we act on it with our agent. However, we can also visualise it. The following function can be used to visualise the episodes of the environemnt with an agent acting on it. We will not be using this function while learning. We will only be using that function for later qualitative examination of an agent."
      ]
    },
    {
      "cell_type": "code",
      "execution_count": null,
      "metadata": {
        "colab": {
          "base_uri": "https://localhost:8080/",
          "height": 299
        },
        "id": "C0y7ArWLLfwy",
        "outputId": "68d52b44-884e-4e40-f189-ba9f73798b18"
      },
      "outputs": [
        {
          "output_type": "execute_result",
          "data": {
            "text/plain": [
              "27.0"
            ]
          },
          "metadata": {},
          "execution_count": 6
        },
        {
          "output_type": "display_data",
          "data": {
            "text/plain": [
              "<Figure size 432x288 with 1 Axes>"
            ],
            "image/png": "[encoded data removed]"
          },
          "metadata": {
            "needs_background": "light"
          }
        }
      ],
      "source": [
        "#Visualise the episodes\n",
        "\n",
        "def visual_episode(env, agent=None):\n",
        "    from pyvirtualdisplay import Display\n",
        "    display = Display(visible=0, size=(400, 300))\n",
        "    display.start()\n",
        "    prev_screen = env.render(mode='rgb_array')\n",
        "    plt.imshow(prev_screen)\n",
        "\n",
        "    tot_reward = 0.0\n",
        "    obs = env.reset()\n",
        "    done = False\n",
        "    curr_t = 0\n",
        "    while not done:\n",
        "        if agent is not None:\n",
        "            action = agent.get_action(obs)\n",
        "        else:\n",
        "            action = env.action_space.sample()\n",
        "        obs, reward, done, info = env.step(action)\n",
        "        screen = env.render(mode='rgb_array')\n",
        "        tot_reward = tot_reward + reward\n",
        "\n",
        "        plt.imshow(screen)\n",
        "        plt.title(curr_t)\n",
        "        ipythondisplay.clear_output(wait=True)\n",
        "        ipythondisplay.display(plt.gcf())\n",
        "        curr_t = curr_t + 1\n",
        "\n",
        "    ipythondisplay.clear_output(wait=True)\n",
        "    env.close()\n",
        "    return tot_reward\n",
        "\n",
        "# This is the function call\n",
        "visual_episode(env)"
      ]
    },
    {
      "cell_type": "markdown",
      "metadata": {
        "id": "a12Q6bo7L1br"
      },
      "source": [
        "Once we will have a good working agent that we want to save each episode of to show in a video, we will use the following function that saves every frame in a downloadable folder:"
      ]
    },
    {
      "cell_type": "code",
      "execution_count": null,
      "metadata": {
        "colab": {
          "base_uri": "https://localhost:8080/",
          "height": 281
        },
        "id": "Rlj4ZZL0MUpk",
        "outputId": "a59a9d24-67ff-40f4-d2f5-7950b9b72f41"
      },
      "outputs": [
        {
          "output_type": "display_data",
          "data": {
            "text/plain": [
              "<Figure size 432x288 with 1 Axes>"
            ],
            "image/png": "[encoded data removed]"
          },
          "metadata": {
            "needs_background": "light"
          }
        }
      ],
      "source": [
        "#Save the frame of every episode to download later\n",
        "\n",
        "def save_vis(env, agent=None, dirname='sim_frames'):\n",
        "    if os.path.isdir(dirname):\n",
        "      shutil.rmtree(dirname)\n",
        "    os.makedirs(dirname, exist_ok=True)\n",
        "    tot_reward = 0.0\n",
        "    obs = env.reset()\n",
        "    done = False\n",
        "    curr_t = 0\n",
        "    while not done:\n",
        "        if agent is not None:\n",
        "            action = agent.get_action(obs)\n",
        "        else:\n",
        "            action = env.action_space.sample()\n",
        "        obs, reward, done, info = env.step(action)\n",
        "        screen = env.render(mode='rgb_array')\n",
        "        tot_reward = tot_reward + reward\n",
        "        plt.imshow(screen)\n",
        "        plt.title(curr_t)\n",
        "        plt.savefig(os.path.join(dirname, 'fig{}'.format(curr_t)))\n",
        "        curr_t += 1\n",
        "\n",
        "# This is the function call\n",
        "save_vis(env)"
      ]
    },
    {
      "cell_type": "markdown",
      "metadata": {
        "id": "SjrK-WRLMmC0"
      },
      "source": [
        "Now that we have successfully set our scene, we can define the Agent class that will be used to create the controllers. An agent will use a neural network to select its next action. We will encode the genes as the weights and biases of the neural networks. The agent, which we now know is a neural network, will use the observations given by the environment at each episode, and through its weights and biases defined by the genotypes it is set with, will decide on an action. The input is the 4 observations of the cart pole, the output is 1 action."
      ]
    },
    {
      "cell_type": "code",
      "execution_count": null,
      "metadata": {
        "id": "eSSxtj1gNanP"
      },
      "outputs": [],
      "source": [
        "#The Agent class, used to define an agent\n",
        "\n",
        "class Agent:\n",
        "    def __init__(self, num_input, num_output):\n",
        "        self.num_input = num_input \n",
        "        self.num_output = num_output\n",
        "        self.num_genes = num_input * num_output + num_output\n",
        "        self.weights = None\n",
        "        self.bias = None\n",
        "\n",
        "    def set_genes(self, gene):\n",
        "        weight_idxs = self.num_input * self.num_output\n",
        "        bias_idxs = self.num_input * self.num_output + self.num_output\n",
        "        w = gene[0 : weight_idxs].reshape(self.num_output, self.num_input)   \n",
        "        b = gene[weight_idxs: bias_idxs].reshape(self.num_output,)\n",
        "        self.weights = torch.from_numpy(w)\n",
        "        self.bias = torch.from_numpy(b)\n",
        "\n",
        "    def forward(self, x):\n",
        "        x = torch.from_numpy(x).unsqueeze(0)\n",
        "        return torch.mm(x, self.weights.T) + self.bias\n",
        "\n",
        "    def get_action(self, x):\n",
        "        if self.forward(x) > 0:\n",
        "            return 1\n",
        "        else:\n",
        "            return 0"
      ]
    },
    {
      "cell_type": "code",
      "execution_count": null,
      "metadata": {
        "id": "KUo4qlUgNd8F"
      },
      "outputs": [],
      "source": [
        "#Example on how to define an agent\n",
        "\n",
        "num_obs = 4 #The number of observations returned by the cart pole environment\n",
        "num_actions = 1 #The number of actions it outputs\n",
        "agent = Agent(num_obs, num_actions)"
      ]
    },
    {
      "cell_type": "markdown",
      "metadata": {
        "id": "C-LwqBuNNxtH"
      },
      "source": [
        "We now have an environment and an agent that can act upon it. We now need to define what will change our agent. This means we need to define the steps to making our agent learn. The agent will learn through keeping the environment run for as many epsiodes as it can. This means that to evaluate the fitness of one agent, we make it try and keep the cart pole up until it falls (the episode where it falls is its fitness), or until it reaches 500 episodes, which is the maximum fitness.\n",
        "\n",
        "We sometimes need to evaluate the fitness of the entire population and sometimes of only one invidiual. We have made two separate functions to accomodate this need. This is not very pythonic but comes in useful to make the FMGA function (defined later on in this notebook) more readable."
      ]
    },
    {
      "cell_type": "code",
      "execution_count": null,
      "metadata": {
        "id": "00DyXEssNsT2"
      },
      "outputs": [],
      "source": [
        "#Get the fitness of an entire population\n",
        "\n",
        "def fitness_function(env, agent, gene_pop):\n",
        "    # Get fitness for each gene\n",
        "    pop_size = gene_pop.shape[0]\n",
        "    pop_fitness = np.zeros(pop_size)\n",
        "    for i, gene in enumerate(gene_pop):\n",
        "        agent.set_genes(gene)\n",
        "        pop_fitness[i] = run_episode(env, agent)\n",
        "    return pop_fitness"
      ]
    },
    {
      "cell_type": "code",
      "execution_count": null,
      "metadata": {
        "id": "Ze63yzqaQA9f"
      },
      "outputs": [],
      "source": [
        "#Get the fitness of one individual (one genotype)\n",
        "\n",
        "def fitness_function_individual(env, agent, gene):\n",
        "    # Get fitness for one gene\n",
        "    agent.set_genes(gene)\n",
        "    fitness = run_episode(env, agent)\n",
        "    return fitness"
      ]
    },
    {
      "cell_type": "markdown",
      "metadata": {
        "id": "SSQxLPadQG6o"
      },
      "source": [
        "In our FMGA model (defined later on), we will be evaluating different genotypes and making changes to them. Once we have made changes, we need to decide if we are keeping them depending on if they improved the fitness of the population or decreased it. The following function performs this:"
      ]
    },
    {
      "cell_type": "code",
      "execution_count": null,
      "metadata": {
        "id": "ekgMOCNOQioK"
      },
      "outputs": [],
      "source": [
        "#Take two populations and return the fittest one\n",
        "\n",
        "def select_genes(prev_gene_pop, gene_pop, prev_fitness, fitness):\n",
        "    new_gene_pop = np.zeros_like(gene_pop)\n",
        "    for i, gene in enumerate(gene_pop): \n",
        "        if fitness[i] >= prev_fitness[i]: \n",
        "            new_gene_pop[i] = gene_pop[i]\n",
        "        else:\n",
        "            new_gene_pop[i] = prev_gene_pop[i]\n",
        "\n",
        "    return new_gene_pop"
      ]
    },
    {
      "cell_type": "markdown",
      "metadata": {
        "id": "tQOLa-E5QtMQ"
      },
      "source": [
        "##The FMGA model"
      ]
    },
    {
      "cell_type": "markdown",
      "metadata": {
        "id": "VvQQYcpHQvaC"
      },
      "source": [
        "In this section, we define our Full Microbial Genetic Algorithm. We will first go through the steps of how the model works, and then provide a function that does it all."
      ]
    },
    {
      "cell_type": "markdown",
      "metadata": {
        "id": "lL_fge8oRLdP"
      },
      "source": [
        "The first step is to define a population with random genotypes."
      ]
    },
    {
      "cell_type": "code",
      "execution_count": null,
      "metadata": {
        "colab": {
          "base_uri": "https://localhost:8080/"
        },
        "id": "n9xD6ESsQupa",
        "outputId": "ed66d841-e921-4c17-d674-529e0444f948"
      },
      "outputs": [
        {
          "output_type": "stream",
          "name": "stdout",
          "text": [
            "[[-0.08307616  0.22491774 -0.02018263 -0.11830388  0.02429601]\n",
            " [-0.05892364 -0.10276805 -0.00136787 -0.01586228 -0.03726764]\n",
            " [-0.02713697  0.12153451 -0.0008488   0.19272863  0.02806755]]\n"
          ]
        }
      ],
      "source": [
        "#Printing a random population of 3 individuals with 4 genes each\n",
        "\n",
        "population_size = 3\n",
        "num_genes = 5\n",
        "population = np.random.normal(0,0.1,(population_size,num_genes))\n",
        "print(population)"
      ]
    },
    {
      "cell_type": "markdown",
      "metadata": {
        "id": "EpKzK_QoR2fA"
      },
      "source": [
        "The second step is to make the individuals go through tournaments. We have defined here how one torunament will play out. An FMGA model will play out many of these tournaments.\n",
        "\n",
        "1 tournament == 1 epoch"
      ]
    },
    {
      "cell_type": "code",
      "execution_count": null,
      "metadata": {
        "colab": {
          "base_uri": "https://localhost:8080/"
        },
        "id": "rGyWZ34oR0ns",
        "outputId": "7efc617c-9870-43cc-83d5-e02e3b1051a0"
      },
      "outputs": [
        {
          "output_type": "stream",
          "name": "stdout",
          "text": [
            "Individual 1's index: 0\n",
            "Individual 2's index: 2\n",
            "\n",
            "\n",
            "Individual 1's fitness: 58.0\n",
            "Individual 2's fitness: 10.0\n",
            "\n",
            "\n",
            "Winner's index: 0 \n",
            "\n",
            "Loser's original genotype: [-0.02524167  0.02484622 -0.08842411  0.00543935  0.11559885]\n",
            "Loser's replacement genotype: [-0.02524167  0.02484622 -0.08842411  0.1484635   0.11559885] \n",
            "\n",
            "Loser's original fitness: 9.0\n",
            "Loser's new fitness 12.0\n",
            "Replacement: False\n",
            "Original fitness of population: [58. 10. 10.]\n",
            "New fitness of population: [36. 10. 11.]\n"
          ]
        }
      ],
      "source": [
        "#Playing one tournament\n",
        "\n",
        "# Create our agent\n",
        "num_obs, num_actions = 4, 1 \n",
        "agent = Agent(num_obs, num_actions)\n",
        "\n",
        "#Get fitness of population before making any changes\n",
        "original_fitness_population = fitness_function(env, agent, population)\n",
        "\n",
        "#Picking a random individual\n",
        "first_random_index = np.random.randint(len(population))\n",
        "first_genotype = np.copy(population[first_random_index])\n",
        "\n",
        "#Picking an individual in the first individual's neighbourhood\n",
        "k = 2 #size of neighbourhood\n",
        "second_random_index = first_random_index\n",
        "while second_random_index == first_random_index: second_random_index = np.random.randint(low=first_random_index-(k/2), high=first_random_index+(k/2)+1) % len(population)\n",
        "second_genotype = np.copy(population[second_random_index])\n",
        "\n",
        "print(\"Individual 1's index:\", first_random_index)\n",
        "print(\"Individual 2's index:\", second_random_index)\n",
        "print('\\n')\n",
        "\n",
        "#Getting their fitness\n",
        "first_genotype_fitness = original_fitness_population[first_random_index]\n",
        "second_genotype_fitness = original_fitness_population[second_random_index]\n",
        "print(\"Individual 1's fitness:\", first_genotype_fitness)\n",
        "print(\"Individual 2's fitness:\", second_genotype_fitness)\n",
        "print('\\n')\n",
        "\n",
        "#Getting a winner and a loser\n",
        "winner_index = second_random_index if first_genotype_fitness < second_genotype_fitness else first_random_index\n",
        "loser_index = first_random_index if first_genotype_fitness < second_genotype_fitness else second_random_index\n",
        "print(\"Winner's index:\", winner_index, '\\n')\n",
        "\n",
        "#Crossing over\n",
        "crossover_probability = 0.5\n",
        "loser_replacement = []\n",
        "for j in range(len(population[loser_index])):\n",
        "  if np.random.rand(1) <= crossover_probability:\n",
        "    new_gene = np.copy(population[winner_index][j])\n",
        "    loser_replacement.append(new_gene)\n",
        "  else: loser_replacement.append(population[loser_index][j])\n",
        "loser_replacement = np.array(loser_replacement)\n",
        "print(\"Loser's original genotype:\", population[loser_index])\n",
        "print(\"Loser's replacement genotype:\", loser_replacement, '\\n')\n",
        "\n",
        "#Getting old and new fitness\n",
        "loser_original_fitness = fitness_function_individual(env, agent, population[loser_index])\n",
        "loser_replacement_fitness = fitness_function_individual(env, agent, loser_replacement)\n",
        "print(\"Loser's original fitness:\", loser_original_fitness)\n",
        "print(\"Loser's new fitness\", loser_replacement_fitness)\n",
        "\n",
        "#Checking if we're replacing the loser or not\n",
        "replacement = False\n",
        "if loser_original_fitness < loser_replacement_fitness:\n",
        "  population[loser_index] = loser_replacement\n",
        "\n",
        "#Printing the old and the new population's fitness\n",
        "new_fitness_population = fitness_function(env, agent, population)\n",
        "print('Replacement:', replacement)\n",
        "print('Original fitness of population:',original_fitness_population)\n",
        "print('New fitness of population:',new_fitness_population)"
      ]
    },
    {
      "cell_type": "markdown",
      "metadata": {
        "id": "A3OOk2ZaWtBm"
      },
      "source": [
        "Here is the full function of the FMGA model. It takes two inputs: the number of epochs (tournaments) and the size of the population. Those are the modifiable hyper-parameters of our FMGA model that we will be trying to optimise. The output is the fitness of every individual in the population at each epoch."
      ]
    },
    {
      "cell_type": "code",
      "execution_count": null,
      "metadata": {
        "id": "rddNu4_SXGMO"
      },
      "outputs": [],
      "source": [
        "def FMGA(epochs=10, population_size=4):\n",
        "  population_fitness_evolution = []\n",
        "\n",
        "  # Create our agent\n",
        "  num_obs, num_actions = 4, 1 \n",
        "  agent = Agent(num_obs, num_actions)\n",
        "\n",
        "  population = np.random.normal(0, 0.1, (population_size, num_genes))\n",
        "  #print(fitness_function(env, agent, population))\n",
        "\n",
        "  for i in range(epochs):\n",
        "    if i % 50 == 0: print('epoch:',i)\n",
        "\n",
        "    #Keep original population\n",
        "    original_population = np.copy(population)\n",
        "    original_fitness = np.copy(fitness_function(env, agent, original_population))\n",
        "\n",
        "    #Picking a random individual\n",
        "    first_random_index = np.random.randint(len(population))\n",
        "    first_genotype = np.copy(population[first_random_index])\n",
        "\n",
        "    #Picking an individual in the first individual's neighbourhood\n",
        "    k = 2\n",
        "    second_random_index = first_random_index\n",
        "    while second_random_index == first_random_index: second_random_index = np.random.randint(low=first_random_index-(k/2), high=first_random_index+(k/2)+1) % len(population)\n",
        "    second_genotype = np.copy(population[second_random_index])\n",
        "\n",
        "    #Getting their fitness\n",
        "    original_fitness_population = fitness_function(env, agent, population)\n",
        "    first_genotype_fitness = original_fitness_population[first_random_index]\n",
        "    second_genotype_fitness = original_fitness_population[second_random_index]\n",
        "\n",
        "    #Getting a winner and a loser\n",
        "    winner_index = second_random_index if first_genotype_fitness < second_genotype_fitness else first_random_index\n",
        "    loser_index = first_random_index if first_genotype_fitness < second_genotype_fitness else second_random_index\n",
        "    #Crossing over\n",
        "    crossover_probability = 0.5\n",
        "    loser_replacement = []\n",
        "    for j in range(len(population[loser_index])):\n",
        "      if np.random.rand(1) <= crossover_probability:\n",
        "        new_gene = np.copy(population[winner_index][j])\n",
        "        loser_replacement.append(new_gene)\n",
        "      else: loser_replacement.append(population[loser_index][j])\n",
        "    population[loser_index] = np.array(loser_replacement)\n",
        "\n",
        "    #Choose if we're changing or not\n",
        "    if fitness_function_individual(env, agent, population[loser_index]) < fitness_function_individual(env, agent, np.array(loser_replacement)):\n",
        "      population[loser_index] = np.array(loser_replacement)\n",
        "\n",
        "    #print(fitness_function(env, agent, population)) #to delete\n",
        "\n",
        "    #Get the fitness of each genotype and add it to the population_fitness list\n",
        "    population_fitness_evolution.append(fitness_function(env, agent, population))\n",
        "\n",
        "  return population_fitness_evolution"
      ]
    },
    {
      "cell_type": "markdown",
      "metadata": {
        "id": "k3DWJfcyXJP9"
      },
      "source": [
        "## Experimentations on our models"
      ]
    },
    {
      "cell_type": "markdown",
      "metadata": {
        "id": "udFIlbVmXQcF"
      },
      "source": [
        "Here is the outline of the experimentation we will be performing on our models:\n",
        "1. Optimising the population size\n",
        "2. Optimising the number of tournaments\n",
        "3. Examining the observed behaviours of the best fit individual from our FMGA model at different epochs\n",
        "4. Getting the visual frames of our best fit individual from our FMGA model at different epochs"
      ]
    },
    {
      "cell_type": "markdown",
      "metadata": {
        "id": "2CvwTsQRb-RU"
      },
      "source": [
        "###1. Optimising the population size"
      ]
    },
    {
      "cell_type": "markdown",
      "metadata": {
        "id": "t4MKbedsXzeO"
      },
      "source": [
        "Optimising the population size is about finding which population size of our FMGA will have an individual that has the maximum fitness (500 episodes) first.\n",
        "\n",
        "Due to the randomness of the initialiasition of the FMGA model's population, a large population will likely result in an initial individual already having the maximum fitness. This is not what we want as our later experimentations will be exploring how more tournaments lead to different agents, different behaviours. Furthermore, training a large population size is computationally expensive."
      ]
    },
    {
      "cell_type": "code",
      "execution_count": null,
      "metadata": {
        "colab": {
          "base_uri": "https://localhost:8080/",
          "height": 421
        },
        "id": "vCIzDDUHXNte",
        "outputId": "f5b6537f-a193-482c-a7db-07a4812f0e6d"
      },
      "outputs": [
        {
          "output_type": "stream",
          "name": "stdout",
          "text": [
            "[2, 12, 22, 32, 42, 52]\n",
            "Current pop size: 2\n"
          ]
        },
        {
          "output_type": "error",
          "ename": "NameError",
          "evalue": "ignored",
          "traceback": [
            "\u001b[0;31m---------------------------------------------------------------------------\u001b[0m",
            "\u001b[0;31mNameError\u001b[0m                                 Traceback (most recent call last)",
            "\u001b[0;32m<ipython-input-13-0a6ca5bb7858>\u001b[0m in \u001b[0;36m<module>\u001b[0;34m()\u001b[0m\n\u001b[1;32m     12\u001b[0m   \u001b[0;31m#Get fitness per tournament of 3 different models with the same population size\u001b[0m\u001b[0;34m\u001b[0m\u001b[0;34m\u001b[0m\u001b[0;34m\u001b[0m\u001b[0m\n\u001b[1;32m     13\u001b[0m   \u001b[0;32mfor\u001b[0m \u001b[0mj\u001b[0m \u001b[0;32min\u001b[0m \u001b[0mrange\u001b[0m\u001b[0;34m(\u001b[0m\u001b[0;36m3\u001b[0m\u001b[0;34m)\u001b[0m\u001b[0;34m:\u001b[0m\u001b[0;34m\u001b[0m\u001b[0;34m\u001b[0m\u001b[0m\n\u001b[0;32m---> 14\u001b[0;31m     \u001b[0maverage_fitness_per_tournament\u001b[0m\u001b[0;34m.\u001b[0m\u001b[0mappend\u001b[0m\u001b[0;34m(\u001b[0m\u001b[0;34m[\u001b[0m\u001b[0mmax\u001b[0m\u001b[0;34m(\u001b[0m\u001b[0mtournament\u001b[0m\u001b[0;34m)\u001b[0m \u001b[0;32mfor\u001b[0m \u001b[0mtournament\u001b[0m \u001b[0;32min\u001b[0m \u001b[0mFMGA\u001b[0m\u001b[0;34m(\u001b[0m\u001b[0mepochs\u001b[0m\u001b[0;34m=\u001b[0m\u001b[0;36m500\u001b[0m\u001b[0;34m,\u001b[0m\u001b[0mpopulation_size\u001b[0m\u001b[0;34m=\u001b[0m\u001b[0mpop_size\u001b[0m\u001b[0;34m)\u001b[0m\u001b[0;34m]\u001b[0m\u001b[0;34m)\u001b[0m\u001b[0;34m\u001b[0m\u001b[0;34m\u001b[0m\u001b[0m\n\u001b[0m\u001b[1;32m     15\u001b[0m   \u001b[0;31m#Average out the fitness per tournament\u001b[0m\u001b[0;34m\u001b[0m\u001b[0;34m\u001b[0m\u001b[0;34m\u001b[0m\u001b[0m\n\u001b[1;32m     16\u001b[0m   \u001b[0maverage_fitness_per_tournament\u001b[0m \u001b[0;34m=\u001b[0m \u001b[0;34m[\u001b[0m\u001b[0mmean\u001b[0m\u001b[0;34m(\u001b[0m\u001b[0;34m[\u001b[0m\u001b[0mm1\u001b[0m\u001b[0;34m,\u001b[0m\u001b[0mm2\u001b[0m\u001b[0;34m,\u001b[0m\u001b[0mm3\u001b[0m\u001b[0;34m]\u001b[0m\u001b[0;34m)\u001b[0m \u001b[0;32mfor\u001b[0m \u001b[0mm1\u001b[0m\u001b[0;34m,\u001b[0m\u001b[0mm2\u001b[0m\u001b[0;34m,\u001b[0m\u001b[0mm3\u001b[0m \u001b[0;32min\u001b[0m \u001b[0mzip\u001b[0m\u001b[0;34m(\u001b[0m\u001b[0maverage_fitness_per_tournament\u001b[0m\u001b[0;34m[\u001b[0m\u001b[0;36m0\u001b[0m\u001b[0;34m]\u001b[0m\u001b[0;34m,\u001b[0m\u001b[0maverage_fitness_per_tournament\u001b[0m\u001b[0;34m[\u001b[0m\u001b[0;36m1\u001b[0m\u001b[0;34m]\u001b[0m\u001b[0;34m,\u001b[0m\u001b[0maverage_fitness_per_tournament\u001b[0m\u001b[0;34m[\u001b[0m\u001b[0;36m2\u001b[0m\u001b[0;34m]\u001b[0m\u001b[0;34m)\u001b[0m\u001b[0;34m]\u001b[0m\u001b[0;34m\u001b[0m\u001b[0;34m\u001b[0m\u001b[0m\n",
            "\u001b[0;32m<ipython-input-12-750e3ac77013>\u001b[0m in \u001b[0;36mFMGA\u001b[0;34m(epochs, population_size)\u001b[0m\n\u001b[1;32m      6\u001b[0m   \u001b[0magent\u001b[0m \u001b[0;34m=\u001b[0m \u001b[0mAgent\u001b[0m\u001b[0;34m(\u001b[0m\u001b[0mnum_obs\u001b[0m\u001b[0;34m,\u001b[0m \u001b[0mnum_actions\u001b[0m\u001b[0;34m)\u001b[0m\u001b[0;34m\u001b[0m\u001b[0;34m\u001b[0m\u001b[0m\n\u001b[1;32m      7\u001b[0m \u001b[0;34m\u001b[0m\u001b[0m\n\u001b[0;32m----> 8\u001b[0;31m   \u001b[0mpopulation\u001b[0m \u001b[0;34m=\u001b[0m \u001b[0mnp\u001b[0m\u001b[0;34m.\u001b[0m\u001b[0mrandom\u001b[0m\u001b[0;34m.\u001b[0m\u001b[0mnormal\u001b[0m\u001b[0;34m(\u001b[0m\u001b[0;36m0\u001b[0m\u001b[0;34m,\u001b[0m \u001b[0;36m0.1\u001b[0m\u001b[0;34m,\u001b[0m \u001b[0;34m(\u001b[0m\u001b[0mpopulation_size\u001b[0m\u001b[0;34m,\u001b[0m \u001b[0mnum_genes\u001b[0m\u001b[0;34m)\u001b[0m\u001b[0;34m)\u001b[0m\u001b[0;34m\u001b[0m\u001b[0;34m\u001b[0m\u001b[0m\n\u001b[0m\u001b[1;32m      9\u001b[0m   \u001b[0;31m#print(fitness_function(env, agent, population))\u001b[0m\u001b[0;34m\u001b[0m\u001b[0;34m\u001b[0m\u001b[0;34m\u001b[0m\u001b[0m\n\u001b[1;32m     10\u001b[0m \u001b[0;34m\u001b[0m\u001b[0m\n",
            "\u001b[0;31mNameError\u001b[0m: name 'num_genes' is not defined"
          ]
        }
      ],
      "source": [
        "#Plotting the average best fitness of FMGAs with different population sizes\n",
        "\n",
        "#We define the different population sizes\n",
        "pop_sizes = [i for i in range(2,53,10)]\n",
        "print(pop_sizes)\n",
        "\n",
        "#We make multiple models for each population sizes\n",
        "average_fitness_per_tournament_per_pop_size = []\n",
        "for pop_size in pop_sizes:\n",
        "  print('Current pop size:',pop_size)\n",
        "  average_fitness_per_tournament = []\n",
        "  #Get fitness per tournament of 3 different models with the same population size\n",
        "  for j in range(3):\n",
        "    average_fitness_per_tournament.append([max(tournament) for tournament in FMGA(epochs=500,population_size=pop_size)])\n",
        "  #Average out the fitness per tournament\n",
        "  average_fitness_per_tournament = [mean([m1,m2,m3]) for m1,m2,m3 in zip(average_fitness_per_tournament[0],average_fitness_per_tournament[1],average_fitness_per_tournament[2])]\n",
        "  average_fitness_per_tournament_per_pop_size.append(average_fitness_per_tournament)\n",
        "  \n",
        "#We plot the average best fitness of each population size over 100 epochs\n",
        "for i in range(len(average_fitness_per_tournament_per_pop_size)):\n",
        "  plt.plot(average_fitness_per_tournament_per_pop_size[i],label=str(pop_sizes[i]))\n",
        "plt.axhline(y = 500, color = 'r', linestyle = 'dashed')   \n",
        "plt.text(4, 473, 'max fitness', fontsize = 12)\n",
        "plt.title('Average performance per tournament of\\nFMGAs with different population sizes')\n",
        "plt.ylabel('Fitness')\n",
        "plt.xlabel('Tournament number')\n",
        "plt.ylim([0,510])\n",
        "plt.xlim([-2,500])\n",
        "plt.legend(bbox_to_anchor=(1.04,1), loc=\"upper left\", title=\"Population\\nsize\")\n",
        "plt.show()"
      ]
    },
    {
      "cell_type": "markdown",
      "metadata": {
        "id": "80Nnpx_VbqpX"
      },
      "source": [
        "We find that a large population is more likely to have a best individual to have the maximum fitness. We also find that lower population seem to have spiky plateaus early on and never reach the maximum fitness. Therefore, we will chose a population size of 50 for the following experimentations in our FMGA model."
      ]
    },
    {
      "cell_type": "markdown",
      "metadata": {
        "id": "vIRXkaJob7i_"
      },
      "source": [
        "###2. Optimising the number of epochs"
      ]
    },
    {
      "cell_type": "markdown",
      "metadata": {
        "id": "nRxFtUB1cFd9"
      },
      "source": [
        "The aim of this section is to find how many epochs are needed to ensure that our FMGA model will have at least one individual with the maximum fitness of 500. This is useful to plot its evolution in behaviour later on, and to save some computational power.\n",
        "\n",
        "We will train 3 models with a population size of 50 over 1000 epochs and plot the average best fitness at different epoch numbers. This will provide us with the data to determine the correct number of epochs to solve the cart pole task."
      ]
    },
    {
      "cell_type": "code",
      "execution_count": null,
      "metadata": {
        "id": "jkLRi73lcE1X",
        "colab": {
          "base_uri": "https://localhost:8080/"
        },
        "outputId": "cb46a796-4749-4430-fa4d-372ba129b8df"
      },
      "outputs": [
        {
          "output_type": "stream",
          "name": "stdout",
          "text": [
            "epoch: 0\n",
            "epoch: 50\n",
            "epoch: 100\n",
            "epoch: 150\n",
            "epoch: 200\n",
            "epoch: 250\n",
            "epoch: 300\n",
            "epoch: 350\n",
            "epoch: 400\n",
            "epoch: 450\n",
            "epoch: 500\n",
            "epoch: 550\n",
            "epoch: 600\n",
            "epoch: 650\n",
            "epoch: 700\n",
            "epoch: 750\n",
            "epoch: 800\n",
            "epoch: 850\n",
            "epoch: 900\n",
            "epoch: 950\n",
            "epoch: 0\n",
            "epoch: 50\n",
            "epoch: 100\n",
            "epoch: 150\n",
            "epoch: 200\n",
            "epoch: 250\n",
            "epoch: 300\n",
            "epoch: 350\n",
            "epoch: 400\n",
            "epoch: 450\n",
            "epoch: 500\n",
            "epoch: 550\n",
            "epoch: 600\n",
            "epoch: 650\n",
            "epoch: 700\n",
            "epoch: 750\n",
            "epoch: 800\n",
            "epoch: 850\n",
            "epoch: 900\n",
            "epoch: 950\n",
            "epoch: 0\n",
            "epoch: 50\n",
            "epoch: 100\n",
            "epoch: 150\n",
            "epoch: 200\n",
            "epoch: 250\n",
            "epoch: 300\n",
            "epoch: 350\n",
            "epoch: 400\n",
            "epoch: 450\n",
            "epoch: 500\n",
            "epoch: 550\n",
            "epoch: 600\n",
            "epoch: 650\n",
            "epoch: 700\n",
            "epoch: 750\n",
            "epoch: 800\n",
            "epoch: 850\n",
            "epoch: 900\n",
            "epoch: 950\n"
          ]
        }
      ],
      "source": [
        "#Plotting the average best fitness of an FMGA with a population size of 50 at every epoch\n",
        "\n",
        "#Create and train 3 FMGAs with a population size of 50 for 1000 epochs\n",
        "#Get their best fitness per tournament\n",
        "models_best_fitnesses = []\n",
        "for i in range(3):\n",
        "  models_best_fitnesses.append([max(tournament) for tournament in FMGA(epochs=1000,population_size=50)])\n",
        "\n"
      ]
    },
    {
      "cell_type": "code",
      "execution_count": null,
      "metadata": {
        "id": "sV_bzIeTCOif"
      },
      "outputs": [],
      "source": [
        "#Average out their best fitness at each tournament\n",
        "avg_best_fit_per_tournament = [mean([m1,m2,m3]) for m1,m2,m3 in zip(models_best_fitnesses[0],models_best_fitnesses[1],models_best_fitnesses[2])]"
      ]
    },
    {
      "cell_type": "code",
      "execution_count": null,
      "metadata": {
        "id": "AmyCczEJCwZD",
        "colab": {
          "base_uri": "https://localhost:8080/",
          "height": 573
        },
        "outputId": "b46f6f4f-33df-4b37-eb4b-f2d5ac864fd4"
      },
      "outputs": [
        {
          "output_type": "display_data",
          "data": {
            "text/plain": [
              "<Figure size 432x288 with 1 Axes>"
            ],
            "image/png": "[encoded data removed]"
          },
          "metadata": {
            "needs_background": "light"
          }
        },
        {
          "output_type": "display_data",
          "data": {
            "text/plain": [
              "<Figure size 432x288 with 1 Axes>"
            ],
            "image/png": "[encoded data removed]"
          },
          "metadata": {
            "needs_background": "light"
          }
        }
      ],
      "source": [
        "#Make a bar plot that plots the average best fitness every 50 epochs\n",
        "tournaments = [i for i in range(0,1000,25)]\n",
        "#fig = plt.figure(figsize=(20, 10))\n",
        "plt.title('Average best fitness of FMGA per number of tournaments')\n",
        "plt.bar(height=avg_best_fit_per_tournament,x=[i for i in range(1000)])\n",
        "#plt.xticks(tournaments) \n",
        "plt.xlabel('Epochs')\n",
        "plt.ylabel('Average best fitness')\n",
        "plt.ylim([0,500])\n",
        "plt.show()\n",
        "\n",
        "#Make a line plot that plots the average best fitness at every epoch\n",
        "plt.plot(avg_best_fit_per_tournament)\n",
        "plt.title('Best fitness of FMGA with 50 individuals averaged over 3 models')\n",
        "plt.xlabel('Epochs')\n",
        "plt.ylabel('Average best fitness')\n",
        "plt.xticks([i for i in range(0,1100,100)])\n",
        "plt.grid()\n",
        "plt.show()"
      ]
    },
    {
      "cell_type": "markdown",
      "metadata": {
        "id": "CfT4jWJAinD8"
      },
      "source": [
        "We notice that after XXX number of epochs, we reach an average maximum fitness of 500. Therefore, there shouldn't be a need to train over more than XXX epochs if we are only looking for a genotype that can keep the pole up for 500 episodes.\n",
        "\n",
        "We hypothesise that more epochs will lead to more robust individuals. This can be found by exploring the behaviour of the individuals through their observations."
      ]
    },
    {
      "cell_type": "markdown",
      "metadata": {
        "id": "DRWMbkssjNlX"
      },
      "source": [
        "###3. Examining observed behaviours (quantitative exploration)"
      ]
    },
    {
      "cell_type": "markdown",
      "metadata": {
        "id": "gvTzg9C_jQA8"
      },
      "source": [
        "In this section, we examine the obserevd behaviours of our optimised FMGA model's best individuals at different numbers of epochs. This means that we will train an FMGA for a certain number of epochs, get its best individual, and plot its observed behaviours. We will then compare the best individuals' plotted behaviours at different numbers of epochs to see if there are differences.\n",
        "\n",
        "It is important to remember in this section that we are only plotting metrical observational values, not the actual scenery visualisation. This is kept for our qualitative examination."
      ]
    },
    {
      "cell_type": "markdown",
      "metadata": {
        "id": "R8i-IImpkD2c"
      },
      "source": [
        "We will first collect the genotypes of the best individual at each epoch.\n",
        "\n",
        "To do so, we need to create and train an FMGA and make it return the best genotype (the one with the best fitness) at each epoch."
      ]
    },
    {
      "cell_type": "code",
      "execution_count": null,
      "metadata": {
        "id": "VNNc1BgMkZYd"
      },
      "outputs": [],
      "source": [
        "#Function that creates an FMGA model and returns the most fit individual's genotype at each epoch\n",
        "\n",
        "def FMGA_best_gene(epochs=10, population_size=4):\n",
        "  best_genotype_per_epoch = []\n",
        "\n",
        "  # Create our agent\n",
        "  num_obs, num_actions = 4, 1 \n",
        "  agent = Agent(num_obs, num_actions)\n",
        "\n",
        "  population = np.random.normal(0, 0.1, (population_size, num_genes))\n",
        "  #print(fitness_function(env, agent, population))\n",
        "\n",
        "  for i in range(epochs):\n",
        "    if i % 50 == 0: print('epoch:',i)\n",
        "\n",
        "    #Keep original population\n",
        "    original_population = np.copy(population)\n",
        "    original_fitness = np.copy(fitness_function(env, agent, original_population))\n",
        "\n",
        "    #Picking a random individual\n",
        "    first_random_index = np.random.randint(len(population))\n",
        "    first_genotype = np.copy(population[first_random_index])\n",
        "\n",
        "    #Picking an individual in the first individual's neighbourhood\n",
        "    k = 2\n",
        "    second_random_index = first_random_index\n",
        "    while second_random_index == first_random_index: second_random_index = np.random.randint(low=first_random_index-(k/2), high=first_random_index+(k/2)+1) % len(population)\n",
        "    second_genotype = np.copy(population[second_random_index])\n",
        "\n",
        "    #Getting their fitness\n",
        "    original_fitness_population = fitness_function(env, agent, population)\n",
        "    first_genotype_fitness = original_fitness_population[first_random_index]\n",
        "    second_genotype_fitness = original_fitness_population[second_random_index]\n",
        "\n",
        "    #Getting a winner and a loser\n",
        "    winner_index = second_random_index if first_genotype_fitness < second_genotype_fitness else first_random_index\n",
        "    loser_index = first_random_index if first_genotype_fitness < second_genotype_fitness else second_random_index\n",
        "    #Crossing over\n",
        "    crossover_probability = 0.5\n",
        "    loser_replacement = []\n",
        "    for j in range(len(population[loser_index])):\n",
        "      if np.random.rand(1) <= crossover_probability:\n",
        "        new_gene = np.copy(population[winner_index][j])\n",
        "        loser_replacement.append(new_gene)\n",
        "      else: loser_replacement.append(population[loser_index][j])\n",
        "    population[loser_index] = np.array(loser_replacement)\n",
        "\n",
        "    #Choose if we're changing or not\n",
        "    if fitness_function_individual(env, agent, population[loser_index]) < fitness_function_individual(env, agent, np.array(loser_replacement)):\n",
        "      population[loser_index] = np.array(loser_replacement)\n",
        "\n",
        "    #Get the fitness of each individual in the population, store the genotype with the highest fitness\n",
        "    population_fitnesses = fitness_function(env, agent, population)\n",
        "    index_best_genotype = max(range(len(population_fitnesses)), key=population_fitnesses.__getitem__)\n",
        "    best_genotype_per_epoch.append(population[index_best_genotype])\n",
        "\n",
        "  return best_genotype_per_epoch"
      ]
    },
    {
      "cell_type": "code",
      "execution_count": null,
      "metadata": {
        "id": "Uu1cG5iij_bo",
        "colab": {
          "base_uri": "https://localhost:8080/"
        },
        "outputId": "4cdbceca-fc76-46c9-ed5b-fb4eb6e3b4a5"
      },
      "outputs": [
        {
          "output_type": "stream",
          "name": "stdout",
          "text": [
            "epoch: 0\n",
            "epoch: 50\n",
            "epoch: 100\n",
            "epoch: 150\n",
            "epoch: 200\n",
            "epoch: 250\n",
            "epoch: 300\n",
            "epoch: 350\n",
            "epoch: 400\n",
            "epoch: 450\n",
            "epoch: 500\n",
            "epoch: 550\n",
            "epoch: 600\n",
            "epoch: 650\n",
            "epoch: 700\n",
            "epoch: 750\n",
            "epoch: 800\n",
            "epoch: 850\n",
            "epoch: 900\n",
            "epoch: 950\n",
            "Best genotype at epoch 2: [ 0.0089485   0.08519416  0.09250396  0.06365342 -0.00529261]\n"
          ]
        }
      ],
      "source": [
        "#Create and train an FMGA model of population size 50 for 1000 epochs with the function defined above\n",
        "best_genotypes = FMGA_best_gene(epochs=1000, population_size=50)\n",
        "print('Best genotype at epoch 2:',best_genotypes[2])"
      ]
    },
    {
      "cell_type": "markdown",
      "metadata": {
        "id": "oyK69IkKt5Mr"
      },
      "source": [
        "Now we can observe the behaviours of the best genotypes of our model at different numbers of epochs. To do so, we will create a function that plots the 4 observations."
      ]
    },
    {
      "cell_type": "code",
      "execution_count": null,
      "metadata": {
        "id": "6TlWp-71sxEm"
      },
      "outputs": [],
      "source": [
        "#Function that takes a genotype and plots its observed behaviours over the episodes\n",
        "#Input: genotype for cart pole agent\n",
        "\n",
        "def observe_behaviour(genotype):\n",
        "  #Get the environment\n",
        "  env_name = 'CartPole-v1'\n",
        "  env = gym.make(env_name)\n",
        "\n",
        "  #Make the agent\n",
        "  num_obs, num_actions = 4, 1 \n",
        "  agent = Agent(num_obs, num_actions)\n",
        "  agent.set_genes(genotype)\n",
        "\n",
        "  #Record the observations over the episodes\n",
        "  obs = env.reset()\n",
        "  done = False\n",
        "  recorded_obsverations = []\n",
        "  while not done:\n",
        "      action = agent.get_action(obs)\n",
        "      obs, reward, done, info = env.step(action)\n",
        "      recorded_obsverations.append(np.round(obs, 2))\n",
        "\n",
        "  #Plot the position of the cart\n",
        "  position_of_cart = [observations[0] for observations in recorded_obsverations]\n",
        "  plt.plot(position_of_cart)\n",
        "  plt.xlabel('Number of episodes')\n",
        "  plt.ylabel('Position of cart')\n",
        "  plt.title('Position of cart over episodes')\n",
        "  plt.xlim([0,500])\n",
        "  plt.grid()\n",
        "  plt.show()\n",
        "\n",
        "  #Plot the velocity of the cart\n",
        "  velocity_of_cart = [observations[1] for observations in recorded_obsverations]\n",
        "  plt.plot(velocity_of_cart, color='green')\n",
        "  plt.xlabel('Number of episodes')\n",
        "  plt.ylabel('Velocity of cart')\n",
        "  plt.title('Velocity of cart over episodes')\n",
        "  plt.xlim([0,500])\n",
        "  plt.grid()\n",
        "  plt.show()\n",
        "\n",
        "  #Plot the angle of the pole\n",
        "  angle_of_pole = [observations[2] for observations in recorded_obsverations]\n",
        "  plt.plot(angle_of_pole, color='red')\n",
        "  plt.xlabel('Number of episodes')\n",
        "  plt.ylabel('Angle of pole on cart')\n",
        "  plt.title('Angle of pole over episodes')\n",
        "  plt.xlim([0,500])\n",
        "  plt.grid()\n",
        "  plt.show()\n",
        "\n",
        "  #Plot the rotation rate of the pole\n",
        "  rotation_rate_of_pole = [observations[3] for observations in recorded_obsverations]\n",
        "  plt.plot(rotation_rate_of_pole, color='orange')\n",
        "  plt.xlabel('Number of episodes')\n",
        "  plt.ylabel('Rotation rate of pole')\n",
        "  plt.title('Rotation rate of pole over episodes')\n",
        "  plt.xlim([0,500])\n",
        "  plt.grid()\n",
        "  plt.show()"
      ]
    },
    {
      "cell_type": "code",
      "execution_count": null,
      "metadata": {
        "id": "JeXHXvYFj87X"
      },
      "outputs": [],
      "source": [
        "#Plot the observed behaviours of the best genotype at epoch 0\n",
        "observe_behaviour(best_genotypes[0])"
      ]
    },
    {
      "cell_type": "code",
      "execution_count": null,
      "metadata": {
        "id": "y91jSg0rkmpf"
      },
      "outputs": [],
      "source": [
        "#Plot the observed behaviours of the best genotype at epoch 250\n",
        "observe_behaviour(best_genotypes[250])"
      ]
    },
    {
      "cell_type": "code",
      "execution_count": null,
      "metadata": {
        "id": "s7CMGRjIkppc"
      },
      "outputs": [],
      "source": [
        "#Plot the observed behaviours of the best genotype at epoch 500\n",
        "observe_behaviour(best_genotypes[500])"
      ]
    },
    {
      "cell_type": "code",
      "execution_count": null,
      "metadata": {
        "id": "3TEQhhHVktjl"
      },
      "outputs": [],
      "source": [
        "#Plot the observed behaviours of the best genotype at epoch 750\n",
        "observe_behaviour(best_genotypes[750])"
      ]
    },
    {
      "cell_type": "code",
      "execution_count": null,
      "metadata": {
        "id": "ntC1ddfNkwwr",
        "colab": {
          "base_uri": "https://localhost:8080/",
          "height": 1000
        },
        "outputId": "abc91437-3c97-4174-a11e-9e0911dc49ab"
      },
      "outputs": [
        {
          "output_type": "display_data",
          "data": {
            "text/plain": [
              "<Figure size 432x288 with 1 Axes>"
            ],
            "image/png": "[encoded data removed]"
          },
          "metadata": {
            "needs_background": "light"
          }
        },
        {
          "output_type": "display_data",
          "data": {
            "text/plain": [
              "<Figure size 432x288 with 1 Axes>"
            ],
            "image/png": "[encoded data removed]"
          },
          "metadata": {
            "needs_background": "light"
          }
        },
        {
          "output_type": "display_data",
          "data": {
            "text/plain": [
              "<Figure size 432x288 with 1 Axes>"
            ],
            "image/png": "[encoded data removed]"
          },
          "metadata": {
            "needs_background": "light"
          }
        },
        {
          "output_type": "display_data",
          "data": {
            "text/plain": [
              "<Figure size 432x288 with 1 Axes>"
            ],
            "image/png": "[encoded data removed]"
          },
          "metadata": {
            "needs_background": "light"
          }
        }
      ],
      "source": [
        "#Plot the observed behaviours of the best genotype at epoch 1000\n",
        "observe_behaviour(best_genotypes[999])"
      ]
    },
    {
      "cell_type": "markdown",
      "metadata": {
        "id": "g2mxIfPBkzjX"
      },
      "source": [
        "###4. Getting the visual frames (qualitative exploration)"
      ]
    },
    {
      "cell_type": "markdown",
      "metadata": {
        "id": "DGNQ6_ScuMjW"
      },
      "source": [
        "A quantitative exploration reveals a lot about how our agent behaves, but observing it visually may reveal something we cannot see in the numbers. We will take each frame from an agent's actions on the cart pole environment, and download them to put them into one video. In this notebook, we need to get the genotype we want to visually observe, and use the save_vis function (defined in the beginning) that exports its frames. "
      ]
    },
    {
      "cell_type": "markdown",
      "metadata": {
        "id": "UTOHBjkjwF4g"
      },
      "source": [
        "We will put these frames together to make a video (one video per genotype) and upload it to YouTube.\n",
        "\n",
        "Link to playlist of videos: https://www.youtube.com/watch?v=9kkyeyACH_Q&list=PLG2p0BQ1eHPP5ZPDcx3zI80jUHque9SaI&index=3&ab_channel=ArthurMonSoss"
      ]
    },
    {
      "cell_type": "markdown",
      "metadata": {
        "id": "MOv_APh-c8VK"
      },
      "source": [
        "Getting the frames for the agent made with best genotype at epoch 0."
      ]
    },
    {
      "cell_type": "code",
      "execution_count": null,
      "metadata": {
        "id": "ExxRh6WVbmFe"
      },
      "outputs": [],
      "source": [
        "agent = Agent(4, 1)"
      ]
    },
    {
      "cell_type": "code",
      "execution_count": null,
      "metadata": {
        "id": "v81dtJAXbni0"
      },
      "outputs": [],
      "source": [
        "agent.set_genes(best_genotypes[0])"
      ]
    },
    {
      "cell_type": "code",
      "execution_count": null,
      "metadata": {
        "id": "hyyNZSYEbpFT"
      },
      "outputs": [],
      "source": [
        "save_vis(env,agent,dirname='sim_frames_epoch_0_test')"
      ]
    },
    {
      "cell_type": "code",
      "execution_count": null,
      "metadata": {
        "id": "FTKFFosMdZXD"
      },
      "outputs": [],
      "source": [
        "from google.colab import files\n",
        "!zip -r /content/sim_frames_epoch_0_test.zip /content/sim_frames_epoch_0_test\n",
        "files.download(\"/content/sim_frames_epoch_0_test.zip\")"
      ]
    },
    {
      "cell_type": "markdown",
      "metadata": {
        "id": "VkfBKGtbdCmU"
      },
      "source": [
        "Getting the frames for the agent made with best genotype at epoch 500."
      ]
    },
    {
      "cell_type": "code",
      "execution_count": null,
      "metadata": {
        "id": "eFRRtpgLdIqW"
      },
      "outputs": [],
      "source": [
        "agent = Agent(4, 1)"
      ]
    },
    {
      "cell_type": "code",
      "execution_count": null,
      "metadata": {
        "id": "pgUAVkBXdIqd"
      },
      "outputs": [],
      "source": [
        "agent.set_genes(best_genotypes[500])"
      ]
    },
    {
      "cell_type": "code",
      "execution_count": null,
      "metadata": {
        "id": "9E5x4QBkdIqj"
      },
      "outputs": [],
      "source": [
        "save_vis(env,agent,dirname='sim_frames_epoch_500_test')"
      ]
    },
    {
      "cell_type": "code",
      "execution_count": null,
      "metadata": {
        "id": "Kq7-XMlEdSSq"
      },
      "outputs": [],
      "source": [
        "!zip -r /content/sim_frames_epoch_500_test.zip /content/sim_frames_epoch_500_test\n",
        "files.download(\"/content/sim_frames_epoch_500_test.zip\")"
      ]
    },
    {
      "cell_type": "markdown",
      "metadata": {
        "id": "dkGIcblYdLG4"
      },
      "source": [
        "Getting the frames for the agent made with best genotype at epoch 1000."
      ]
    },
    {
      "cell_type": "code",
      "execution_count": null,
      "metadata": {
        "id": "Fgxv2y2JdLG6"
      },
      "outputs": [],
      "source": [
        "agent = Agent(4, 1)"
      ]
    },
    {
      "cell_type": "code",
      "execution_count": null,
      "metadata": {
        "id": "bAKkiJNmdLG6"
      },
      "outputs": [],
      "source": [
        "agent.set_genes(best_genotypes[999])"
      ]
    },
    {
      "cell_type": "code",
      "execution_count": null,
      "metadata": {
        "id": "T8_KmpCHdLG7",
        "colab": {
          "base_uri": "https://localhost:8080/",
          "height": 281
        },
        "outputId": "b7716e89-e2bc-4fa2-d6c3-3bdbe2c66559"
      },
      "outputs": [
        {
          "output_type": "display_data",
          "data": {
            "text/plain": [
              "<Figure size 432x288 with 1 Axes>"
            ],
            "image/png": "[encoded data removed]"
          },
          "metadata": {
            "needs_background": "light"
          }
        }
      ],
      "source": [
        "save_vis(env,agent,dirname='sim_frames_epoch_1000_test')"
      ]
    },
    {
      "cell_type": "code",
      "execution_count": null,
      "metadata": {
        "id": "vkAg9r3gho4L",
        "colab": {
          "base_uri": "https://localhost:8080/",
          "height": 1000
        },
        "outputId": "fd868529-4f93-4607-d00d-265fba3c426a"
      },
      "outputs": [
        {
          "output_type": "stream",
          "name": "stdout",
          "text": [
            "updating: content/sim_frames_epoch_1000_test/ (stored 0%)\n",
            "updating: content/sim_frames_epoch_1000_test/fig375.png (deflated 17%)\n",
            "updating: content/sim_frames_epoch_1000_test/fig77.png (deflated 16%)\n",
            "updating: content/sim_frames_epoch_1000_test/fig126.png (deflated 16%)\n",
            "updating: content/sim_frames_epoch_1000_test/fig312.png (deflated 18%)\n",
            "updating: content/sim_frames_epoch_1000_test/fig170.png (deflated 17%)\n",
            "updating: content/sim_frames_epoch_1000_test/fig57.png (deflated 17%)\n",
            "updating: content/sim_frames_epoch_1000_test/fig16.png (deflated 17%)\n",
            "updating: content/sim_frames_epoch_1000_test/fig493.png (deflated 18%)\n",
            "updating: content/sim_frames_epoch_1000_test/fig485.png (deflated 16%)\n",
            "updating: content/sim_frames_epoch_1000_test/fig499.png (deflated 17%)\n",
            "updating: content/sim_frames_epoch_1000_test/fig64.png (deflated 17%)\n",
            "updating: content/sim_frames_epoch_1000_test/fig405.png (deflated 17%)\n",
            "updating: content/sim_frames_epoch_1000_test/fig98.png (deflated 17%)\n",
            "updating: content/sim_frames_epoch_1000_test/fig34.png (deflated 16%)\n",
            "updating: content/sim_frames_epoch_1000_test/fig486.png (deflated 17%)\n",
            "updating: content/sim_frames_epoch_1000_test/fig17.png (deflated 17%)\n",
            "updating: content/sim_frames_epoch_1000_test/fig86.png (deflated 17%)\n",
            "updating: content/sim_frames_epoch_1000_test/fig381.png (deflated 19%)\n",
            "updating: content/sim_frames_epoch_1000_test/fig117.png (deflated 16%)\n",
            "updating: content/sim_frames_epoch_1000_test/fig56.png (deflated 18%)\n",
            "updating: content/sim_frames_epoch_1000_test/fig452.png (deflated 18%)\n",
            "updating: content/sim_frames_epoch_1000_test/fig19.png (deflated 16%)\n",
            "updating: content/sim_frames_epoch_1000_test/fig221.png (deflated 16%)\n",
            "updating: content/sim_frames_epoch_1000_test/fig403.png (deflated 16%)\n",
            "updating: content/sim_frames_epoch_1000_test/fig362.png (deflated 16%)\n",
            "updating: content/sim_frames_epoch_1000_test/fig146.png (deflated 18%)\n",
            "updating: content/sim_frames_epoch_1000_test/fig421.png (deflated 17%)\n",
            "updating: content/sim_frames_epoch_1000_test/fig40.png (deflated 17%)\n",
            "updating: content/sim_frames_epoch_1000_test/fig262.png (deflated 17%)\n",
            "updating: content/sim_frames_epoch_1000_test/fig214.png (deflated 19%)\n",
            "updating: content/sim_frames_epoch_1000_test/fig72.png (deflated 17%)\n",
            "updating: content/sim_frames_epoch_1000_test/fig153.png (deflated 16%)\n",
            "updating: content/sim_frames_epoch_1000_test/fig212.png (deflated 17%)\n",
            "updating: content/sim_frames_epoch_1000_test/fig466.png (deflated 18%)\n",
            "updating: content/sim_frames_epoch_1000_test/fig496.png (deflated 18%)\n",
            "updating: content/sim_frames_epoch_1000_test/fig275.png (deflated 17%)\n",
            "updating: content/sim_frames_epoch_1000_test/fig475.png (deflated 17%)\n",
            "updating: content/sim_frames_epoch_1000_test/fig63.png (deflated 17%)\n",
            "updating: content/sim_frames_epoch_1000_test/fig114.png (deflated 18%)\n",
            "updating: content/sim_frames_epoch_1000_test/fig236.png (deflated 16%)\n",
            "updating: content/sim_frames_epoch_1000_test/fig162.png (deflated 17%)\n",
            "updating: content/sim_frames_epoch_1000_test/fig442.png (deflated 18%)\n",
            "updating: content/sim_frames_epoch_1000_test/fig354.png (deflated 18%)\n",
            "updating: content/sim_frames_epoch_1000_test/fig309.png (deflated 17%)\n",
            "updating: content/sim_frames_epoch_1000_test/fig233.png (deflated 15%)\n",
            "updating: content/sim_frames_epoch_1000_test/fig87.png (deflated 16%)\n",
            "updating: content/sim_frames_epoch_1000_test/fig425.png (deflated 16%)\n",
            "updating: content/sim_frames_epoch_1000_test/fig259.png (deflated 17%)\n",
            "updating: content/sim_frames_epoch_1000_test/fig147.png (deflated 17%)\n",
            "updating: content/sim_frames_epoch_1000_test/fig194.png (deflated 17%)\n",
            "updating: content/sim_frames_epoch_1000_test/fig471.png (deflated 19%)\n",
            "updating: content/sim_frames_epoch_1000_test/fig457.png (deflated 17%)\n",
            "updating: content/sim_frames_epoch_1000_test/fig397.png (deflated 16%)\n",
            "updating: content/sim_frames_epoch_1000_test/fig242.png (deflated 18%)\n",
            "updating: content/sim_frames_epoch_1000_test/fig497.png (deflated 16%)\n",
            "updating: content/sim_frames_epoch_1000_test/fig407.png (deflated 16%)\n",
            "updating: content/sim_frames_epoch_1000_test/fig35.png (deflated 18%)\n",
            "updating: content/sim_frames_epoch_1000_test/fig337.png (deflated 17%)\n",
            "updating: content/sim_frames_epoch_1000_test/fig477.png (deflated 18%)\n",
            "updating: content/sim_frames_epoch_1000_test/fig2.png (deflated 17%)\n",
            "updating: content/sim_frames_epoch_1000_test/fig399.png (deflated 17%)\n",
            "updating: content/sim_frames_epoch_1000_test/fig402.png (deflated 16%)\n",
            "updating: content/sim_frames_epoch_1000_test/fig398.png (deflated 18%)\n",
            "updating: content/sim_frames_epoch_1000_test/fig241.png (deflated 15%)\n",
            "updating: content/sim_frames_epoch_1000_test/fig263.png (deflated 16%)\n",
            "updating: content/sim_frames_epoch_1000_test/fig26.png (deflated 16%)\n",
            "updating: content/sim_frames_epoch_1000_test/fig310.png (deflated 17%)\n",
            "updating: content/sim_frames_epoch_1000_test/fig42.png (deflated 17%)\n",
            "updating: content/sim_frames_epoch_1000_test/fig453.png (deflated 17%)\n",
            "updating: content/sim_frames_epoch_1000_test/fig404.png (deflated 17%)\n",
            "updating: content/sim_frames_epoch_1000_test/fig444.png (deflated 18%)\n",
            "updating: content/sim_frames_epoch_1000_test/fig255.png (deflated 18%)\n",
            "updating: content/sim_frames_epoch_1000_test/fig456.png (deflated 17%)\n",
            "updating: content/sim_frames_epoch_1000_test/fig374.png (deflated 16%)\n",
            "updating: content/sim_frames_epoch_1000_test/fig315.png (deflated 16%)\n",
            "updating: content/sim_frames_epoch_1000_test/fig428.png (deflated 17%)\n",
            "updating: content/sim_frames_epoch_1000_test/fig367.png (deflated 16%)\n",
            "updating: content/sim_frames_epoch_1000_test/fig280.png (deflated 16%)\n",
            "updating: content/sim_frames_epoch_1000_test/fig232.png (deflated 18%)\n",
            "updating: content/sim_frames_epoch_1000_test/fig18.png (deflated 16%)\n",
            "updating: content/sim_frames_epoch_1000_test/fig424.png (deflated 18%)\n",
            "updating: content/sim_frames_epoch_1000_test/fig392.png (deflated 16%)\n",
            "updating: content/sim_frames_epoch_1000_test/fig435.png (deflated 17%)\n",
            "updating: content/sim_frames_epoch_1000_test/fig6.png (deflated 17%)\n",
            "updating: content/sim_frames_epoch_1000_test/fig385.png (deflated 18%)\n",
            "updating: content/sim_frames_epoch_1000_test/fig193.png (deflated 16%)\n",
            "updating: content/sim_frames_epoch_1000_test/fig333.png (deflated 18%)\n",
            "updating: content/sim_frames_epoch_1000_test/fig415.png (deflated 17%)\n",
            "updating: content/sim_frames_epoch_1000_test/fig463.png (deflated 16%)\n",
            "updating: content/sim_frames_epoch_1000_test/fig447.png (deflated 17%)\n",
            "updating: content/sim_frames_epoch_1000_test/fig317.png (deflated 18%)\n",
            "updating: content/sim_frames_epoch_1000_test/fig387.png (deflated 17%)\n",
            "updating: content/sim_frames_epoch_1000_test/fig78.png (deflated 16%)\n",
            "updating: content/sim_frames_epoch_1000_test/fig96.png (deflated 17%)\n",
            "updating: content/sim_frames_epoch_1000_test/fig389.png (deflated 17%)\n",
            "updating: content/sim_frames_epoch_1000_test/fig295.png (deflated 18%)\n",
            "updating: content/sim_frames_epoch_1000_test/fig68.png (deflated 16%)\n",
            "updating: content/sim_frames_epoch_1000_test/fig12.png (deflated 17%)\n",
            "updating: content/sim_frames_epoch_1000_test/fig356.png (deflated 16%)\n",
            "updating: content/sim_frames_epoch_1000_test/fig357.png (deflated 17%)\n",
            "updating: content/sim_frames_epoch_1000_test/fig278.png (deflated 16%)\n",
            "updating: content/sim_frames_epoch_1000_test/fig394.png (deflated 17%)\n",
            "updating: content/sim_frames_epoch_1000_test/fig33.png (deflated 18%)\n",
            "updating: content/sim_frames_epoch_1000_test/fig284.png (deflated 18%)\n",
            "updating: content/sim_frames_epoch_1000_test/fig439.png (deflated 16%)\n",
            "updating: content/sim_frames_epoch_1000_test/fig48.png (deflated 18%)\n",
            "updating: content/sim_frames_epoch_1000_test/fig183.png (deflated 15%)\n",
            "updating: content/sim_frames_epoch_1000_test/fig14.png (deflated 16%)\n",
            "updating: content/sim_frames_epoch_1000_test/fig38.png (deflated 18%)\n",
            "updating: content/sim_frames_epoch_1000_test/fig307.png (deflated 17%)\n",
            "updating: content/sim_frames_epoch_1000_test/fig373.png (deflated 17%)\n",
            "updating: content/sim_frames_epoch_1000_test/fig441.png (deflated 16%)\n",
            "updating: content/sim_frames_epoch_1000_test/fig359.png (deflated 18%)\n",
            "updating: content/sim_frames_epoch_1000_test/fig50.png (deflated 17%)\n",
            "updating: content/sim_frames_epoch_1000_test/fig158.png (deflated 16%)\n",
            "updating: content/sim_frames_epoch_1000_test/fig327.png (deflated 18%)\n",
            "updating: content/sim_frames_epoch_1000_test/fig46.png (deflated 17%)\n",
            "updating: content/sim_frames_epoch_1000_test/fig93.png (deflated 18%)\n",
            "updating: content/sim_frames_epoch_1000_test/fig409.png (deflated 17%)\n",
            "updating: content/sim_frames_epoch_1000_test/fig494.png (deflated 17%)\n",
            "updating: content/sim_frames_epoch_1000_test/fig286.png (deflated 17%)\n",
            "updating: content/sim_frames_epoch_1000_test/fig119.png (deflated 17%)\n",
            "updating: content/sim_frames_epoch_1000_test/fig210.png (deflated 17%)\n",
            "updating: content/sim_frames_epoch_1000_test/fig204.png (deflated 17%)\n",
            "updating: content/sim_frames_epoch_1000_test/fig323.png (deflated 17%)\n",
            "updating: content/sim_frames_epoch_1000_test/fig201.png (deflated 17%)\n",
            "updating: content/sim_frames_epoch_1000_test/fig271.png (deflated 17%)\n",
            "updating: content/sim_frames_epoch_1000_test/fig498.png (deflated 16%)\n",
            "updating: content/sim_frames_epoch_1000_test/fig246.png (deflated 16%)\n",
            "updating: content/sim_frames_epoch_1000_test/fig358.png (deflated 17%)\n",
            "updating: content/sim_frames_epoch_1000_test/fig344.png (deflated 17%)\n",
            "updating: content/sim_frames_epoch_1000_test/fig101.png (deflated 17%)\n",
            "updating: content/sim_frames_epoch_1000_test/fig388.png (deflated 17%)\n",
            "updating: content/sim_frames_epoch_1000_test/fig341.png (deflated 17%)\n",
            "updating: content/sim_frames_epoch_1000_test/fig340.png (deflated 16%)\n",
            "updating: content/sim_frames_epoch_1000_test/fig464.png (deflated 17%)\n",
            "updating: content/sim_frames_epoch_1000_test/fig436.png (deflated 16%)\n",
            "updating: content/sim_frames_epoch_1000_test/fig437.png (deflated 18%)\n",
            "updating: content/sim_frames_epoch_1000_test/fig55.png (deflated 17%)\n",
            "updating: content/sim_frames_epoch_1000_test/fig335.png (deflated 19%)\n",
            "updating: content/sim_frames_epoch_1000_test/fig175.png (deflated 17%)\n",
            "updating: content/sim_frames_epoch_1000_test/fig36.png (deflated 16%)\n",
            "updating: content/sim_frames_epoch_1000_test/fig352.png (deflated 17%)\n",
            "updating: content/sim_frames_epoch_1000_test/fig282.png (deflated 16%)\n",
            "updating: content/sim_frames_epoch_1000_test/fig216.png (deflated 17%)\n",
            "updating: content/sim_frames_epoch_1000_test/fig378.png (deflated 17%)\n",
            "updating: content/sim_frames_epoch_1000_test/fig75.png (deflated 16%)\n",
            "updating: content/sim_frames_epoch_1000_test/fig164.png (deflated 17%)\n",
            "updating: content/sim_frames_epoch_1000_test/fig363.png (deflated 17%)\n",
            "updating: content/sim_frames_epoch_1000_test/fig467.png (deflated 17%)\n",
            "updating: content/sim_frames_epoch_1000_test/fig249.png (deflated 17%)\n",
            "updating: content/sim_frames_epoch_1000_test/fig488.png (deflated 17%)\n",
            "updating: content/sim_frames_epoch_1000_test/fig325.png (deflated 17%)\n",
            "updating: content/sim_frames_epoch_1000_test/fig106.png (deflated 17%)\n",
            "updating: content/sim_frames_epoch_1000_test/fig440.png (deflated 18%)\n",
            "updating: content/sim_frames_epoch_1000_test/fig243.png (deflated 17%)\n",
            "updating: content/sim_frames_epoch_1000_test/fig43.png (deflated 17%)\n",
            "updating: content/sim_frames_epoch_1000_test/fig47.png (deflated 17%)\n",
            "updating: content/sim_frames_epoch_1000_test/fig125.png (deflated 18%)\n",
            "updating: content/sim_frames_epoch_1000_test/fig184.png (deflated 17%)\n",
            "updating: content/sim_frames_epoch_1000_test/fig279.png (deflated 16%)\n",
            "updating: content/sim_frames_epoch_1000_test/fig427.png (deflated 17%)\n",
            "updating: content/sim_frames_epoch_1000_test/fig223.png (deflated 16%)\n",
            "updating: content/sim_frames_epoch_1000_test/fig22.png (deflated 18%)\n",
            "updating: content/sim_frames_epoch_1000_test/fig446.png (deflated 17%)\n",
            "updating: content/sim_frames_epoch_1000_test/fig462.png (deflated 17%)\n",
            "updating: content/sim_frames_epoch_1000_test/fig370.png (deflated 17%)\n",
            "updating: content/sim_frames_epoch_1000_test/fig168.png (deflated 17%)\n",
            "updating: content/sim_frames_epoch_1000_test/fig422.png (deflated 16%)\n",
            "updating: content/sim_frames_epoch_1000_test/fig94.png (deflated 18%)\n",
            "updating: content/sim_frames_epoch_1000_test/fig218.png (deflated 16%)\n",
            "updating: content/sim_frames_epoch_1000_test/fig426.png (deflated 16%)\n",
            "updating: content/sim_frames_epoch_1000_test/fig91.png (deflated 16%)\n",
            "updating: content/sim_frames_epoch_1000_test/fig215.png (deflated 17%)\n",
            "updating: content/sim_frames_epoch_1000_test/fig240.png (deflated 16%)\n",
            "updating: content/sim_frames_epoch_1000_test/fig288.png (deflated 18%)\n",
            "updating: content/sim_frames_epoch_1000_test/fig391.png (deflated 17%)\n",
            "updating: content/sim_frames_epoch_1000_test/fig105.png (deflated 17%)\n",
            "updating: content/sim_frames_epoch_1000_test/fig224.png (deflated 15%)\n",
            "updating: content/sim_frames_epoch_1000_test/fig411.png (deflated 17%)\n",
            "updating: content/sim_frames_epoch_1000_test/fig245.png (deflated 18%)\n",
            "updating: content/sim_frames_epoch_1000_test/fig431.png (deflated 17%)\n",
            "updating: content/sim_frames_epoch_1000_test/fig187.png (deflated 17%)\n",
            "updating: content/sim_frames_epoch_1000_test/fig261.png (deflated 17%)\n",
            "updating: content/sim_frames_epoch_1000_test/fig287.png (deflated 17%)\n",
            "updating: content/sim_frames_epoch_1000_test/fig376.png (deflated 18%)\n",
            "updating: content/sim_frames_epoch_1000_test/fig294.png (deflated 16%)\n",
            "updating: content/sim_frames_epoch_1000_test/fig165.png (deflated 17%)\n",
            "updating: content/sim_frames_epoch_1000_test/fig219.png (deflated 17%)\n",
            "updating: content/sim_frames_epoch_1000_test/fig338.png (deflated 17%)\n",
            "updating: content/sim_frames_epoch_1000_test/fig29.png (deflated 17%)\n",
            "updating: content/sim_frames_epoch_1000_test/fig408.png (deflated 16%)\n",
            "updating: content/sim_frames_epoch_1000_test/fig473.png (deflated 18%)\n",
            "updating: content/sim_frames_epoch_1000_test/fig30.png (deflated 16%)\n",
            "updating: content/sim_frames_epoch_1000_test/fig306.png (deflated 16%)\n",
            "updating: content/sim_frames_epoch_1000_test/fig128.png (deflated 17%)\n",
            "updating: content/sim_frames_epoch_1000_test/fig1.png (deflated 17%)\n",
            "updating: content/sim_frames_epoch_1000_test/fig258.png (deflated 16%)\n",
            "updating: content/sim_frames_epoch_1000_test/fig383.png (deflated 16%)\n",
            "updating: content/sim_frames_epoch_1000_test/fig123.png (deflated 17%)\n",
            "updating: content/sim_frames_epoch_1000_test/fig198.png (deflated 17%)\n",
            "updating: content/sim_frames_epoch_1000_test/fig118.png (deflated 17%)\n",
            "updating: content/sim_frames_epoch_1000_test/fig487.png (deflated 18%)\n",
            "updating: content/sim_frames_epoch_1000_test/fig203.png (deflated 17%)\n",
            "updating: content/sim_frames_epoch_1000_test/fig273.png (deflated 17%)\n",
            "updating: content/sim_frames_epoch_1000_test/fig380.png (deflated 17%)\n",
            "updating: content/sim_frames_epoch_1000_test/fig220.png (deflated 18%)\n",
            "updating: content/sim_frames_epoch_1000_test/fig113.png (deflated 17%)\n",
            "updating: content/sim_frames_epoch_1000_test/fig368.png (deflated 17%)\n",
            "updating: content/sim_frames_epoch_1000_test/fig104.png (deflated 17%)\n",
            "updating: content/sim_frames_epoch_1000_test/fig469.png (deflated 17%)\n",
            "updating: content/sim_frames_epoch_1000_test/fig400.png (deflated 17%)\n",
            "updating: content/sim_frames_epoch_1000_test/fig474.png (deflated 17%)\n",
            "updating: content/sim_frames_epoch_1000_test/fig59.png (deflated 16%)\n",
            "updating: content/sim_frames_epoch_1000_test/fig321.png (deflated 16%)\n",
            "updating: content/sim_frames_epoch_1000_test/fig80.png (deflated 16%)\n",
            "updating: content/sim_frames_epoch_1000_test/fig303.png (deflated 16%)\n",
            "updating: content/sim_frames_epoch_1000_test/fig324.png (deflated 18%)\n",
            "updating: content/sim_frames_epoch_1000_test/fig302.png (deflated 17%)\n",
            "updating: content/sim_frames_epoch_1000_test/fig67.png (deflated 17%)\n",
            "updating: content/sim_frames_epoch_1000_test/fig410.png (deflated 17%)\n",
            "updating: content/sim_frames_epoch_1000_test/fig418.png (deflated 16%)\n",
            "updating: content/sim_frames_epoch_1000_test/fig382.png (deflated 16%)\n",
            "updating: content/sim_frames_epoch_1000_test/fig191.png (deflated 18%)\n",
            "updating: content/sim_frames_epoch_1000_test/fig406.png (deflated 18%)\n",
            "updating: content/sim_frames_epoch_1000_test/fig277.png (deflated 17%)\n",
            "updating: content/sim_frames_epoch_1000_test/fig83.png (deflated 16%)\n",
            "updating: content/sim_frames_epoch_1000_test/fig79.png (deflated 16%)\n",
            "updating: content/sim_frames_epoch_1000_test/fig238.png (deflated 17%)\n",
            "updating: content/sim_frames_epoch_1000_test/fig181.png (deflated 16%)\n",
            "updating: content/sim_frames_epoch_1000_test/fig269.png (deflated 17%)\n",
            "updating: content/sim_frames_epoch_1000_test/fig257.png (deflated 16%)\n",
            "updating: content/sim_frames_epoch_1000_test/fig438.png (deflated 16%)\n",
            "updating: content/sim_frames_epoch_1000_test/fig23.png (deflated 17%)\n",
            "updating: content/sim_frames_epoch_1000_test/fig176.png (deflated 16%)\n",
            "updating: content/sim_frames_epoch_1000_test/fig37.png (deflated 16%)\n",
            "updating: content/sim_frames_epoch_1000_test/fig227.png (deflated 16%)\n",
            "updating: content/sim_frames_epoch_1000_test/fig161.png (deflated 17%)\n",
            "updating: content/sim_frames_epoch_1000_test/fig472.png (deflated 16%)\n",
            "updating: content/sim_frames_epoch_1000_test/fig384.png (deflated 17%)\n",
            "updating: content/sim_frames_epoch_1000_test/fig103.png (deflated 17%)\n",
            "updating: content/sim_frames_epoch_1000_test/fig190.png (deflated 17%)\n",
            "updating: content/sim_frames_epoch_1000_test/fig229.png (deflated 17%)\n",
            "updating: content/sim_frames_epoch_1000_test/fig51.png (deflated 17%)\n",
            "updating: content/sim_frames_epoch_1000_test/fig27.png (deflated 18%)\n",
            "updating: content/sim_frames_epoch_1000_test/fig141.png (deflated 16%)\n",
            "updating: content/sim_frames_epoch_1000_test/fig237.png (deflated 16%)\n",
            "updating: content/sim_frames_epoch_1000_test/fig482.png (deflated 16%)\n",
            "updating: content/sim_frames_epoch_1000_test/fig69.png (deflated 16%)\n",
            "updating: content/sim_frames_epoch_1000_test/fig148.png (deflated 17%)\n",
            "updating: content/sim_frames_epoch_1000_test/fig292.png (deflated 17%)\n",
            "updating: content/sim_frames_epoch_1000_test/fig459.png (deflated 17%)\n",
            "updating: content/sim_frames_epoch_1000_test/fig88.png (deflated 17%)\n",
            "updating: content/sim_frames_epoch_1000_test/fig470.png (deflated 17%)\n",
            "updating: content/sim_frames_epoch_1000_test/fig124.png (deflated 17%)\n",
            "updating: content/sim_frames_epoch_1000_test/fig115.png (deflated 16%)\n",
            "updating: content/sim_frames_epoch_1000_test/fig206.png (deflated 18%)\n",
            "updating: content/sim_frames_epoch_1000_test/fig99.png (deflated 17%)\n",
            "updating: content/sim_frames_epoch_1000_test/fig450.png (deflated 17%)\n",
            "updating: content/sim_frames_epoch_1000_test/fig166.png (deflated 17%)\n",
            "updating: content/sim_frames_epoch_1000_test/fig228.png (deflated 15%)\n",
            "updating: content/sim_frames_epoch_1000_test/fig129.png (deflated 15%)\n",
            "updating: content/sim_frames_epoch_1000_test/fig332.png (deflated 17%)\n",
            "updating: content/sim_frames_epoch_1000_test/fig136.png (deflated 16%)\n",
            "updating: content/sim_frames_epoch_1000_test/fig234.png (deflated 16%)\n",
            "updating: content/sim_frames_epoch_1000_test/fig130.png (deflated 16%)\n",
            "updating: content/sim_frames_epoch_1000_test/fig250.png (deflated 16%)\n",
            "updating: content/sim_frames_epoch_1000_test/fig70.png (deflated 18%)\n",
            "updating: content/sim_frames_epoch_1000_test/fig416.png (deflated 17%)\n",
            "updating: content/sim_frames_epoch_1000_test/fig351.png (deflated 16%)\n",
            "updating: content/sim_frames_epoch_1000_test/fig413.png (deflated 17%)\n",
            "updating: content/sim_frames_epoch_1000_test/fig347.png (deflated 17%)\n",
            "updating: content/sim_frames_epoch_1000_test/fig205.png (deflated 16%)\n",
            "updating: content/sim_frames_epoch_1000_test/fig305.png (deflated 17%)\n",
            "updating: content/sim_frames_epoch_1000_test/fig11.png (deflated 18%)\n",
            "updating: content/sim_frames_epoch_1000_test/fig460.png (deflated 17%)\n",
            "updating: content/sim_frames_epoch_1000_test/fig248.png (deflated 17%)\n",
            "updating: content/sim_frames_epoch_1000_test/fig13.png (deflated 16%)\n",
            "updating: content/sim_frames_epoch_1000_test/fig15.png (deflated 17%)\n",
            "updating: content/sim_frames_epoch_1000_test/fig182.png (deflated 15%)\n",
            "updating: content/sim_frames_epoch_1000_test/fig455.png (deflated 17%)\n",
            "updating: content/sim_frames_epoch_1000_test/fig481.png (deflated 18%)\n",
            "updating: content/sim_frames_epoch_1000_test/fig142.png (deflated 18%)\n",
            "updating: content/sim_frames_epoch_1000_test/fig180.png (deflated 17%)\n",
            "updating: content/sim_frames_epoch_1000_test/fig213.png (deflated 18%)\n",
            "updating: content/sim_frames_epoch_1000_test/fig328.png (deflated 18%)\n",
            "updating: content/sim_frames_epoch_1000_test/fig179.png (deflated 16%)\n",
            "updating: content/sim_frames_epoch_1000_test/fig131.png (deflated 17%)\n",
            "updating: content/sim_frames_epoch_1000_test/fig396.png (deflated 17%)\n",
            "updating: content/sim_frames_epoch_1000_test/fig276.png (deflated 16%)\n",
            "updating: content/sim_frames_epoch_1000_test/fig100.png (deflated 16%)\n",
            "updating: content/sim_frames_epoch_1000_test/fig329.png (deflated 16%)\n",
            "updating: content/sim_frames_epoch_1000_test/fig132.png (deflated 16%)\n",
            "updating: content/sim_frames_epoch_1000_test/fig353.png (deflated 17%)\n",
            "updating: content/sim_frames_epoch_1000_test/fig318.png (deflated 17%)\n",
            "updating: content/sim_frames_epoch_1000_test/fig268.png (deflated 17%)\n",
            "updating: content/sim_frames_epoch_1000_test/fig377.png (deflated 18%)\n",
            "updating: content/sim_frames_epoch_1000_test/fig202.png (deflated 17%)\n",
            "updating: content/sim_frames_epoch_1000_test/fig349.png (deflated 17%)\n",
            "updating: content/sim_frames_epoch_1000_test/fig365.png (deflated 16%)\n",
            "updating: content/sim_frames_epoch_1000_test/fig316.png (deflated 17%)\n",
            "updating: content/sim_frames_epoch_1000_test/fig326.png (deflated 17%)\n",
            "updating: content/sim_frames_epoch_1000_test/fig320.png (deflated 17%)\n",
            "updating: content/sim_frames_epoch_1000_test/fig200.png (deflated 17%)\n",
            "updating: content/sim_frames_epoch_1000_test/fig336.png (deflated 18%)\n",
            "updating: content/sim_frames_epoch_1000_test/fig95.png (deflated 17%)\n",
            "updating: content/sim_frames_epoch_1000_test/fig289.png (deflated 16%)\n",
            "updating: content/sim_frames_epoch_1000_test/fig111.png (deflated 17%)\n",
            "updating: content/sim_frames_epoch_1000_test/fig54.png (deflated 16%)\n",
            "updating: content/sim_frames_epoch_1000_test/fig423.png (deflated 17%)\n",
            "updating: content/sim_frames_epoch_1000_test/fig297.png (deflated 17%)\n",
            "updating: content/sim_frames_epoch_1000_test/fig92.png (deflated 17%)\n",
            "updating: content/sim_frames_epoch_1000_test/fig65.png (deflated 16%)\n",
            "updating: content/sim_frames_epoch_1000_test/fig4.png (deflated 16%)\n",
            "updating: content/sim_frames_epoch_1000_test/fig420.png (deflated 16%)\n",
            "updating: content/sim_frames_epoch_1000_test/fig9.png (deflated 16%)\n",
            "updating: content/sim_frames_epoch_1000_test/fig468.png (deflated 16%)\n",
            "updating: content/sim_frames_epoch_1000_test/fig177.png (deflated 18%)\n",
            "updating: content/sim_frames_epoch_1000_test/fig247.png (deflated 17%)\n",
            "updating: content/sim_frames_epoch_1000_test/fig478.png (deflated 18%)\n",
            "updating: content/sim_frames_epoch_1000_test/fig401.png (deflated 16%)\n",
            "updating: content/sim_frames_epoch_1000_test/fig207.png (deflated 16%)\n",
            "updating: content/sim_frames_epoch_1000_test/fig296.png (deflated 16%)\n",
            "updating: content/sim_frames_epoch_1000_test/fig8.png (deflated 16%)\n",
            "updating: content/sim_frames_epoch_1000_test/fig260.png (deflated 18%)\n",
            "updating: content/sim_frames_epoch_1000_test/fig73.png (deflated 17%)\n",
            "updating: content/sim_frames_epoch_1000_test/fig52.png (deflated 16%)\n",
            "updating: content/sim_frames_epoch_1000_test/fig345.png (deflated 18%)\n",
            "updating: content/sim_frames_epoch_1000_test/fig39.png (deflated 18%)\n",
            "updating: content/sim_frames_epoch_1000_test/fig209.png (deflated 17%)\n",
            "updating: content/sim_frames_epoch_1000_test/fig267.png (deflated 17%)\n",
            "updating: content/sim_frames_epoch_1000_test/fig20.png (deflated 17%)\n",
            "updating: content/sim_frames_epoch_1000_test/fig270.png (deflated 17%)\n",
            "updating: content/sim_frames_epoch_1000_test/fig152.png (deflated 17%)\n",
            "updating: content/sim_frames_epoch_1000_test/fig281.png (deflated 17%)\n",
            "updating: content/sim_frames_epoch_1000_test/fig366.png (deflated 16%)\n",
            "updating: content/sim_frames_epoch_1000_test/fig109.png (deflated 16%)\n",
            "updating: content/sim_frames_epoch_1000_test/fig283.png (deflated 17%)\n",
            "updating: content/sim_frames_epoch_1000_test/fig97.png (deflated 18%)\n",
            "updating: content/sim_frames_epoch_1000_test/fig414.png (deflated 17%)\n",
            "updating: content/sim_frames_epoch_1000_test/fig66.png (deflated 16%)\n",
            "updating: content/sim_frames_epoch_1000_test/fig322.png (deflated 17%)\n",
            "updating: content/sim_frames_epoch_1000_test/fig343.png (deflated 17%)\n",
            "updating: content/sim_frames_epoch_1000_test/fig28.png (deflated 17%)\n",
            "updating: content/sim_frames_epoch_1000_test/fig186.png (deflated 16%)\n",
            "updating: content/sim_frames_epoch_1000_test/fig154.png (deflated 16%)\n",
            "updating: content/sim_frames_epoch_1000_test/fig76.png (deflated 17%)\n",
            "updating: content/sim_frames_epoch_1000_test/fig171.png (deflated 17%)\n",
            "updating: content/sim_frames_epoch_1000_test/fig346.png (deflated 19%)\n",
            "updating: content/sim_frames_epoch_1000_test/fig433.png (deflated 16%)\n",
            "updating: content/sim_frames_epoch_1000_test/fig140.png (deflated 16%)\n",
            "updating: content/sim_frames_epoch_1000_test/fig230.png (deflated 17%)\n",
            "updating: content/sim_frames_epoch_1000_test/fig314.png (deflated 18%)\n",
            "updating: content/sim_frames_epoch_1000_test/fig84.png (deflated 17%)\n",
            "updating: content/sim_frames_epoch_1000_test/fig348.png (deflated 17%)\n",
            "updating: content/sim_frames_epoch_1000_test/fig266.png (deflated 16%)\n",
            "updating: content/sim_frames_epoch_1000_test/fig304.png (deflated 17%)\n",
            "updating: content/sim_frames_epoch_1000_test/fig412.png (deflated 18%)\n",
            "updating: content/sim_frames_epoch_1000_test/fig81.png (deflated 17%)\n",
            "updating: content/sim_frames_epoch_1000_test/fig44.png (deflated 17%)\n",
            "updating: content/sim_frames_epoch_1000_test/fig45.png (deflated 17%)\n",
            "updating: content/sim_frames_epoch_1000_test/fig133.png (deflated 16%)\n",
            "updating: content/sim_frames_epoch_1000_test/fig108.png (deflated 17%)\n",
            "updating: content/sim_frames_epoch_1000_test/fig461.png (deflated 18%)\n",
            "updating: content/sim_frames_epoch_1000_test/fig225.png (deflated 17%)\n",
            "updating: content/sim_frames_epoch_1000_test/fig10.png (deflated 17%)\n",
            "updating: content/sim_frames_epoch_1000_test/fig265.png (deflated 16%)\n",
            "updating: content/sim_frames_epoch_1000_test/fig386.png (deflated 18%)\n",
            "updating: content/sim_frames_epoch_1000_test/fig197.png (deflated 17%)\n",
            "updating: content/sim_frames_epoch_1000_test/fig484.png (deflated 17%)\n",
            "updating: content/sim_frames_epoch_1000_test/fig151.png (deflated 16%)\n",
            "updating: content/sim_frames_epoch_1000_test/fig299.png (deflated 18%)\n",
            "updating: content/sim_frames_epoch_1000_test/fig244.png (deflated 17%)\n",
            "updating: content/sim_frames_epoch_1000_test/fig300.png (deflated 18%)\n",
            "updating: content/sim_frames_epoch_1000_test/fig479.png (deflated 16%)\n",
            "updating: content/sim_frames_epoch_1000_test/fig434.png (deflated 16%)\n",
            "updating: content/sim_frames_epoch_1000_test/fig157.png (deflated 16%)\n",
            "updating: content/sim_frames_epoch_1000_test/fig208.png (deflated 17%)\n",
            "updating: content/sim_frames_epoch_1000_test/fig32.png (deflated 17%)\n",
            "updating: content/sim_frames_epoch_1000_test/fig107.png (deflated 17%)\n",
            "updating: content/sim_frames_epoch_1000_test/fig489.png (deflated 16%)\n",
            "updating: content/sim_frames_epoch_1000_test/fig62.png (deflated 17%)\n",
            "updating: content/sim_frames_epoch_1000_test/fig143.png (deflated 17%)\n",
            "updating: content/sim_frames_epoch_1000_test/fig483.png (deflated 17%)\n",
            "updating: content/sim_frames_epoch_1000_test/fig239.png (deflated 16%)\n",
            "updating: content/sim_frames_epoch_1000_test/fig71.png (deflated 16%)\n",
            "updating: content/sim_frames_epoch_1000_test/fig41.png (deflated 18%)\n",
            "updating: content/sim_frames_epoch_1000_test/fig172.png (deflated 17%)\n",
            "updating: content/sim_frames_epoch_1000_test/fig222.png (deflated 16%)\n",
            "updating: content/sim_frames_epoch_1000_test/fig491.png (deflated 17%)\n",
            "updating: content/sim_frames_epoch_1000_test/fig454.png (deflated 18%)\n",
            "updating: content/sim_frames_epoch_1000_test/fig160.png (deflated 16%)\n",
            "updating: content/sim_frames_epoch_1000_test/fig169.png (deflated 16%)\n",
            "updating: content/sim_frames_epoch_1000_test/fig360.png (deflated 19%)\n",
            "updating: content/sim_frames_epoch_1000_test/fig61.png (deflated 16%)\n",
            "updating: content/sim_frames_epoch_1000_test/fig53.png (deflated 16%)\n",
            "updating: content/sim_frames_epoch_1000_test/fig134.png (deflated 17%)\n",
            "updating: content/sim_frames_epoch_1000_test/fig330.png (deflated 16%)\n",
            "updating: content/sim_frames_epoch_1000_test/fig231.png (deflated 16%)\n",
            "updating: content/sim_frames_epoch_1000_test/fig90.png (deflated 16%)\n",
            "updating: content/sim_frames_epoch_1000_test/fig443.png (deflated 16%)\n",
            "updating: content/sim_frames_epoch_1000_test/fig139.png (deflated 17%)\n",
            "updating: content/sim_frames_epoch_1000_test/fig121.png (deflated 17%)\n",
            "updating: content/sim_frames_epoch_1000_test/fig235.png (deflated 17%)\n",
            "updating: content/sim_frames_epoch_1000_test/fig89.png (deflated 17%)\n",
            "updating: content/sim_frames_epoch_1000_test/fig350.png (deflated 17%)\n",
            "updating: content/sim_frames_epoch_1000_test/fig495.png (deflated 17%)\n",
            "updating: content/sim_frames_epoch_1000_test/fig264.png (deflated 16%)\n",
            "updating: content/sim_frames_epoch_1000_test/fig290.png (deflated 17%)\n",
            "updating: content/sim_frames_epoch_1000_test/fig274.png (deflated 18%)\n",
            "updating: content/sim_frames_epoch_1000_test/fig199.png (deflated 17%)\n",
            "updating: content/sim_frames_epoch_1000_test/fig0.png (deflated 16%)\n",
            "updating: content/sim_frames_epoch_1000_test/fig144.png (deflated 18%)\n",
            "updating: content/sim_frames_epoch_1000_test/fig163.png (deflated 15%)\n",
            "updating: content/sim_frames_epoch_1000_test/fig155.png (deflated 16%)\n",
            "updating: content/sim_frames_epoch_1000_test/fig116.png (deflated 17%)\n",
            "updating: content/sim_frames_epoch_1000_test/fig3.png (deflated 15%)\n",
            "updating: content/sim_frames_epoch_1000_test/fig419.png (deflated 17%)\n",
            "updating: content/sim_frames_epoch_1000_test/fig60.png (deflated 18%)\n",
            "updating: content/sim_frames_epoch_1000_test/fig432.png (deflated 17%)\n",
            "updating: content/sim_frames_epoch_1000_test/fig217.png (deflated 16%)\n",
            "updating: content/sim_frames_epoch_1000_test/fig138.png (deflated 17%)\n",
            "updating: content/sim_frames_epoch_1000_test/fig156.png (deflated 16%)\n",
            "updating: content/sim_frames_epoch_1000_test/fig449.png (deflated 17%)\n",
            "updating: content/sim_frames_epoch_1000_test/fig342.png (deflated 16%)\n",
            "updating: content/sim_frames_epoch_1000_test/fig301.png (deflated 18%)\n",
            "updating: content/sim_frames_epoch_1000_test/fig122.png (deflated 16%)\n",
            "updating: content/sim_frames_epoch_1000_test/fig476.png (deflated 16%)\n",
            "updating: content/sim_frames_epoch_1000_test/fig145.png (deflated 17%)\n",
            "updating: content/sim_frames_epoch_1000_test/fig430.png (deflated 17%)\n",
            "updating: content/sim_frames_epoch_1000_test/fig254.png (deflated 16%)\n",
            "updating: content/sim_frames_epoch_1000_test/fig285.png (deflated 17%)\n",
            "updating: content/sim_frames_epoch_1000_test/fig251.png (deflated 17%)\n",
            "updating: content/sim_frames_epoch_1000_test/fig188.png (deflated 15%)\n",
            "updating: content/sim_frames_epoch_1000_test/fig395.png (deflated 18%)\n",
            "updating: content/sim_frames_epoch_1000_test/fig355.png (deflated 18%)\n",
            "updating: content/sim_frames_epoch_1000_test/fig167.png (deflated 17%)\n",
            "updating: content/sim_frames_epoch_1000_test/fig25.png (deflated 17%)\n",
            "updating: content/sim_frames_epoch_1000_test/fig291.png (deflated 17%)\n",
            "updating: content/sim_frames_epoch_1000_test/fig451.png (deflated 16%)\n",
            "updating: content/sim_frames_epoch_1000_test/fig102.png (deflated 17%)\n",
            "updating: content/sim_frames_epoch_1000_test/fig458.png (deflated 17%)\n",
            "updating: content/sim_frames_epoch_1000_test/fig127.png (deflated 16%)\n",
            "updating: content/sim_frames_epoch_1000_test/fig226.png (deflated 16%)\n",
            "updating: content/sim_frames_epoch_1000_test/fig82.png (deflated 17%)\n",
            "updating: content/sim_frames_epoch_1000_test/fig137.png (deflated 16%)\n",
            "updating: content/sim_frames_epoch_1000_test/fig195.png (deflated 17%)\n",
            "updating: content/sim_frames_epoch_1000_test/fig196.png (deflated 16%)\n",
            "updating: content/sim_frames_epoch_1000_test/fig311.png (deflated 17%)\n",
            "updating: content/sim_frames_epoch_1000_test/fig465.png (deflated 17%)\n",
            "updating: content/sim_frames_epoch_1000_test/fig189.png (deflated 15%)\n",
            "updating: content/sim_frames_epoch_1000_test/fig110.png (deflated 17%)\n",
            "updating: content/sim_frames_epoch_1000_test/fig159.png (deflated 17%)\n",
            "updating: content/sim_frames_epoch_1000_test/fig371.png (deflated 18%)\n",
            "updating: content/sim_frames_epoch_1000_test/fig185.png (deflated 17%)\n",
            "updating: content/sim_frames_epoch_1000_test/fig253.png (deflated 15%)\n",
            "updating: content/sim_frames_epoch_1000_test/fig379.png (deflated 17%)\n",
            "updating: content/sim_frames_epoch_1000_test/fig445.png (deflated 18%)\n",
            "updating: content/sim_frames_epoch_1000_test/fig331.png (deflated 16%)\n",
            "updating: content/sim_frames_epoch_1000_test/fig85.png (deflated 17%)\n",
            "updating: content/sim_frames_epoch_1000_test/fig192.png (deflated 17%)\n",
            "updating: content/sim_frames_epoch_1000_test/fig339.png (deflated 17%)\n",
            "updating: content/sim_frames_epoch_1000_test/fig390.png (deflated 18%)\n",
            "updating: content/sim_frames_epoch_1000_test/fig58.png (deflated 17%)\n",
            "updating: content/sim_frames_epoch_1000_test/fig21.png (deflated 16%)\n",
            "updating: content/sim_frames_epoch_1000_test/fig308.png (deflated 17%)\n",
            "updating: content/sim_frames_epoch_1000_test/fig480.png (deflated 17%)\n",
            "updating: content/sim_frames_epoch_1000_test/fig5.png (deflated 18%)\n",
            "updating: content/sim_frames_epoch_1000_test/fig149.png (deflated 17%)\n",
            "updating: content/sim_frames_epoch_1000_test/fig334.png (deflated 18%)\n",
            "updating: content/sim_frames_epoch_1000_test/fig74.png (deflated 16%)\n",
            "updating: content/sim_frames_epoch_1000_test/fig319.png (deflated 17%)\n",
            "updating: content/sim_frames_epoch_1000_test/fig31.png (deflated 17%)\n",
            "updating: content/sim_frames_epoch_1000_test/fig429.png (deflated 16%)\n",
            "updating: content/sim_frames_epoch_1000_test/fig256.png (deflated 18%)\n",
            "updating: content/sim_frames_epoch_1000_test/fig112.png (deflated 17%)\n",
            "updating: content/sim_frames_epoch_1000_test/fig178.png (deflated 17%)\n",
            "updating: content/sim_frames_epoch_1000_test/fig293.png (deflated 17%)\n",
            "updating: content/sim_frames_epoch_1000_test/fig173.png (deflated 18%)\n",
            "updating: content/sim_frames_epoch_1000_test/fig120.png (deflated 17%)\n",
            "updating: content/sim_frames_epoch_1000_test/fig7.png (deflated 16%)\n",
            "updating: content/sim_frames_epoch_1000_test/fig372.png (deflated 17%)\n",
            "updating: content/sim_frames_epoch_1000_test/fig298.png (deflated 17%)\n",
            "updating: content/sim_frames_epoch_1000_test/fig252.png (deflated 18%)\n",
            "updating: content/sim_frames_epoch_1000_test/fig492.png (deflated 17%)\n",
            "updating: content/sim_frames_epoch_1000_test/fig272.png (deflated 17%)\n",
            "updating: content/sim_frames_epoch_1000_test/fig174.png (deflated 17%)\n",
            "updating: content/sim_frames_epoch_1000_test/fig448.png (deflated 16%)\n",
            "updating: content/sim_frames_epoch_1000_test/fig24.png (deflated 17%)\n",
            "updating: content/sim_frames_epoch_1000_test/fig211.png (deflated 17%)\n",
            "updating: content/sim_frames_epoch_1000_test/fig361.png (deflated 18%)\n",
            "updating: content/sim_frames_epoch_1000_test/fig417.png (deflated 16%)\n",
            "updating: content/sim_frames_epoch_1000_test/fig135.png (deflated 17%)\n",
            "updating: content/sim_frames_epoch_1000_test/fig369.png (deflated 17%)\n",
            "updating: content/sim_frames_epoch_1000_test/fig49.png (deflated 16%)\n",
            "updating: content/sim_frames_epoch_1000_test/fig364.png (deflated 16%)\n",
            "updating: content/sim_frames_epoch_1000_test/fig150.png (deflated 17%)\n",
            "updating: content/sim_frames_epoch_1000_test/fig313.png (deflated 18%)\n",
            "updating: content/sim_frames_epoch_1000_test/fig490.png (deflated 17%)\n",
            "updating: content/sim_frames_epoch_1000_test/fig393.png (deflated 17%)\n"
          ]
        },
        {
          "output_type": "display_data",
          "data": {
            "text/plain": [
              "<IPython.core.display.Javascript object>"
            ],
            "application/javascript": [
              "\n",
              "    async function download(id, filename, size) {\n",
              "      if (!google.colab.kernel.accessAllowed) {\n",
              "        return;\n",
              "      }\n",
              "      const div = document.createElement('div');\n",
              "      const label = document.createElement('label');\n",
              "      label.textContent = `Downloading \"${filename}\": `;\n",
              "      div.appendChild(label);\n",
              "      const progress = document.createElement('progress');\n",
              "      progress.max = size;\n",
              "      div.appendChild(progress);\n",
              "      document.body.appendChild(div);\n",
              "\n",
              "      const buffers = [];\n",
              "      let downloaded = 0;\n",
              "\n",
              "      const channel = await google.colab.kernel.comms.open(id);\n",
              "      // Send a message to notify the kernel that we're ready.\n",
              "      channel.send({})\n",
              "\n",
              "      for await (const message of channel.messages) {\n",
              "        // Send a message to notify the kernel that we're ready.\n",
              "        channel.send({})\n",
              "        if (message.buffers) {\n",
              "          for (const buffer of message.buffers) {\n",
              "            buffers.push(buffer);\n",
              "            downloaded += buffer.byteLength;\n",
              "            progress.value = downloaded;\n",
              "          }\n",
              "        }\n",
              "      }\n",
              "      const blob = new Blob(buffers, {type: 'application/binary'});\n",
              "      const a = document.createElement('a');\n",
              "      a.href = window.URL.createObjectURL(blob);\n",
              "      a.download = filename;\n",
              "      div.appendChild(a);\n",
              "      a.click();\n",
              "      div.remove();\n",
              "    }\n",
              "  "
            ]
          },
          "metadata": {}
        },
        {
          "output_type": "display_data",
          "data": {
            "text/plain": [
              "<IPython.core.display.Javascript object>"
            ],
            "application/javascript": [
              "download(\"download_74f6687c-8abe-4964-99c9-7f800f783ad2\", \"sim_frames_epoch_1000_test.zip\", 3119704)"
            ]
          },
          "metadata": {}
        }
      ],
      "source": [
        "!zip -r /content/sim_frames_epoch_1000_test.zip /content/sim_frames_epoch_1000_test\n",
        "files.download(\"/content/sim_frames_epoch_1000_test.zip\")"
      ]
    }
  ],
  "metadata": {
    "colab": {
      "collapsed_sections": [],
      "name": "AIAB Report 3.ipynb",
      "provenance": []
    },
    "kernelspec": {
      "display_name": "Python 3",
      "name": "python3"
    },
    "language_info": {
      "name": "python"
    }
  },
  "nbformat": 4,
  "nbformat_minor": 0
}